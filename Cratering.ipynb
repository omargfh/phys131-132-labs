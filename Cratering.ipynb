{
  "nbformat": 4,
  "nbformat_minor": 0,
  "metadata": {
    "colab": {
      "provenance": [],
      "collapsed_sections": [
        "NdHh3BxR_8rl",
        "BiWFTKSnYuZ3",
        "VVg9kc19KZfO"
      ],
      "include_colab_link": true
    },
    "kernelspec": {
      "name": "python3",
      "display_name": "Python 3"
    },
    "widgets": {
      "application/vnd.jupyter.widget-state+json": {
        "434aee270bd5406bb407e2095c63eef2": {
          "model_module": "@jupyter-widgets/controls",
          "model_name": "VBoxModel",
          "model_module_version": "1.5.0",
          "state": {
            "_dom_classes": [
              "widget-interact"
            ],
            "_model_module": "@jupyter-widgets/controls",
            "_model_module_version": "1.5.0",
            "_model_name": "VBoxModel",
            "_view_count": null,
            "_view_module": "@jupyter-widgets/controls",
            "_view_module_version": "1.5.0",
            "_view_name": "VBoxView",
            "box_style": "",
            "children": [
              "IPY_MODEL_45e4e9af00f44db39332bd1fed4af167",
              "IPY_MODEL_32a4fc0e695c42018abcb62d914be00a",
              "IPY_MODEL_aa8e7d6bd261496e846a8598cf19d41f",
              "IPY_MODEL_7ac19b8c970c43bf8f9f07dc0882d251",
              "IPY_MODEL_363ce5c1136c4286bc9a82fcccd43c2b"
            ],
            "layout": "IPY_MODEL_d42059b0b9bd43baabe41001faa66760"
          }
        },
        "45e4e9af00f44db39332bd1fed4af167": {
          "model_module": "@jupyter-widgets/controls",
          "model_name": "FloatSliderModel",
          "model_module_version": "1.5.0",
          "state": {
            "_dom_classes": [],
            "_model_module": "@jupyter-widgets/controls",
            "_model_module_version": "1.5.0",
            "_model_name": "FloatSliderModel",
            "_view_count": null,
            "_view_module": "@jupyter-widgets/controls",
            "_view_module_version": "1.5.0",
            "_view_name": "FloatSliderView",
            "continuous_update": true,
            "description": "A",
            "description_tooltip": null,
            "disabled": false,
            "layout": "IPY_MODEL_0e931d3d8e484bef961fc3ec51e7db90",
            "max": 20,
            "min": 1,
            "orientation": "horizontal",
            "readout": true,
            "readout_format": ".2f",
            "step": 0.1,
            "style": "IPY_MODEL_74025771d4184ff8abc603b0821e5468",
            "value": 13.5
          }
        },
        "32a4fc0e695c42018abcb62d914be00a": {
          "model_module": "@jupyter-widgets/controls",
          "model_name": "FloatSliderModel",
          "model_module_version": "1.5.0",
          "state": {
            "_dom_classes": [],
            "_model_module": "@jupyter-widgets/controls",
            "_model_module_version": "1.5.0",
            "_model_name": "FloatSliderModel",
            "_view_count": null,
            "_view_module": "@jupyter-widgets/controls",
            "_view_module_version": "1.5.0",
            "_view_name": "FloatSliderView",
            "continuous_update": true,
            "description": "B",
            "description_tooltip": null,
            "disabled": false,
            "layout": "IPY_MODEL_22b2f5e7b7ad47c1bb65d32ffd769d87",
            "max": 20,
            "min": 1,
            "orientation": "horizontal",
            "readout": true,
            "readout_format": ".2f",
            "step": 0.1,
            "style": "IPY_MODEL_417df166b40a4f4ba21f48c8bde9d273",
            "value": 11.1
          }
        },
        "aa8e7d6bd261496e846a8598cf19d41f": {
          "model_module": "@jupyter-widgets/controls",
          "model_name": "FloatSliderModel",
          "model_module_version": "1.5.0",
          "state": {
            "_dom_classes": [],
            "_model_module": "@jupyter-widgets/controls",
            "_model_module_version": "1.5.0",
            "_model_name": "FloatSliderModel",
            "_view_count": null,
            "_view_module": "@jupyter-widgets/controls",
            "_view_module_version": "1.5.0",
            "_view_name": "FloatSliderView",
            "continuous_update": true,
            "description": "maxK",
            "description_tooltip": null,
            "disabled": false,
            "layout": "IPY_MODEL_30bf8afd89c04bd9a8afa67e9d7c175c",
            "max": 2,
            "min": 0,
            "orientation": "horizontal",
            "readout": true,
            "readout_format": ".2f",
            "step": 0.1,
            "style": "IPY_MODEL_21b7eb64bf83446dab71b1cd64b92465",
            "value": 1
          }
        },
        "7ac19b8c970c43bf8f9f07dc0882d251": {
          "model_module": "@jupyter-widgets/controls",
          "model_name": "CheckboxModel",
          "model_module_version": "1.5.0",
          "state": {
            "_dom_classes": [],
            "_model_module": "@jupyter-widgets/controls",
            "_model_module_version": "1.5.0",
            "_model_name": "CheckboxModel",
            "_view_count": null,
            "_view_module": "@jupyter-widgets/controls",
            "_view_module_version": "1.5.0",
            "_view_name": "CheckboxView",
            "description": "log-log plot?",
            "description_tooltip": null,
            "disabled": false,
            "indent": true,
            "layout": "IPY_MODEL_7cf5427add5c4b568e46bf651edfdc6a",
            "style": "IPY_MODEL_bac09cd9508d46488547e59321aa6167",
            "value": false
          }
        },
        "363ce5c1136c4286bc9a82fcccd43c2b": {
          "model_module": "@jupyter-widgets/output",
          "model_name": "OutputModel",
          "model_module_version": "1.0.0",
          "state": {
            "_dom_classes": [],
            "_model_module": "@jupyter-widgets/output",
            "_model_module_version": "1.0.0",
            "_model_name": "OutputModel",
            "_view_count": null,
            "_view_module": "@jupyter-widgets/output",
            "_view_module_version": "1.0.0",
            "_view_name": "OutputView",
            "layout": "IPY_MODEL_f8c6c3b57d5743438bed18f383ad7499",
            "msg_id": "",
            "outputs": [
              {
                "output_type": "display_data",
                "data": {
                  "text/plain": "<Figure size 960x640 with 1 Axes>",
                  "image/png": "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\n"
                },
                "metadata": {
                  "needs_background": "light"
                }
              }
            ]
          }
        },
        "d42059b0b9bd43baabe41001faa66760": {
          "model_module": "@jupyter-widgets/base",
          "model_name": "LayoutModel",
          "model_module_version": "1.2.0",
          "state": {
            "_model_module": "@jupyter-widgets/base",
            "_model_module_version": "1.2.0",
            "_model_name": "LayoutModel",
            "_view_count": null,
            "_view_module": "@jupyter-widgets/base",
            "_view_module_version": "1.2.0",
            "_view_name": "LayoutView",
            "align_content": null,
            "align_items": null,
            "align_self": null,
            "border": null,
            "bottom": null,
            "display": null,
            "flex": null,
            "flex_flow": null,
            "grid_area": null,
            "grid_auto_columns": null,
            "grid_auto_flow": null,
            "grid_auto_rows": null,
            "grid_column": null,
            "grid_gap": null,
            "grid_row": null,
            "grid_template_areas": null,
            "grid_template_columns": null,
            "grid_template_rows": null,
            "height": null,
            "justify_content": null,
            "justify_items": null,
            "left": null,
            "margin": null,
            "max_height": null,
            "max_width": null,
            "min_height": null,
            "min_width": null,
            "object_fit": null,
            "object_position": null,
            "order": null,
            "overflow": null,
            "overflow_x": null,
            "overflow_y": null,
            "padding": null,
            "right": null,
            "top": null,
            "visibility": null,
            "width": null
          }
        },
        "0e931d3d8e484bef961fc3ec51e7db90": {
          "model_module": "@jupyter-widgets/base",
          "model_name": "LayoutModel",
          "model_module_version": "1.2.0",
          "state": {
            "_model_module": "@jupyter-widgets/base",
            "_model_module_version": "1.2.0",
            "_model_name": "LayoutModel",
            "_view_count": null,
            "_view_module": "@jupyter-widgets/base",
            "_view_module_version": "1.2.0",
            "_view_name": "LayoutView",
            "align_content": null,
            "align_items": null,
            "align_self": null,
            "border": null,
            "bottom": null,
            "display": null,
            "flex": null,
            "flex_flow": null,
            "grid_area": null,
            "grid_auto_columns": null,
            "grid_auto_flow": null,
            "grid_auto_rows": null,
            "grid_column": null,
            "grid_gap": null,
            "grid_row": null,
            "grid_template_areas": null,
            "grid_template_columns": null,
            "grid_template_rows": null,
            "height": null,
            "justify_content": null,
            "justify_items": null,
            "left": null,
            "margin": null,
            "max_height": null,
            "max_width": null,
            "min_height": null,
            "min_width": null,
            "object_fit": null,
            "object_position": null,
            "order": null,
            "overflow": null,
            "overflow_x": null,
            "overflow_y": null,
            "padding": null,
            "right": null,
            "top": null,
            "visibility": null,
            "width": null
          }
        },
        "74025771d4184ff8abc603b0821e5468": {
          "model_module": "@jupyter-widgets/controls",
          "model_name": "SliderStyleModel",
          "model_module_version": "1.5.0",
          "state": {
            "_model_module": "@jupyter-widgets/controls",
            "_model_module_version": "1.5.0",
            "_model_name": "SliderStyleModel",
            "_view_count": null,
            "_view_module": "@jupyter-widgets/base",
            "_view_module_version": "1.2.0",
            "_view_name": "StyleView",
            "description_width": "",
            "handle_color": null
          }
        },
        "22b2f5e7b7ad47c1bb65d32ffd769d87": {
          "model_module": "@jupyter-widgets/base",
          "model_name": "LayoutModel",
          "model_module_version": "1.2.0",
          "state": {
            "_model_module": "@jupyter-widgets/base",
            "_model_module_version": "1.2.0",
            "_model_name": "LayoutModel",
            "_view_count": null,
            "_view_module": "@jupyter-widgets/base",
            "_view_module_version": "1.2.0",
            "_view_name": "LayoutView",
            "align_content": null,
            "align_items": null,
            "align_self": null,
            "border": null,
            "bottom": null,
            "display": null,
            "flex": null,
            "flex_flow": null,
            "grid_area": null,
            "grid_auto_columns": null,
            "grid_auto_flow": null,
            "grid_auto_rows": null,
            "grid_column": null,
            "grid_gap": null,
            "grid_row": null,
            "grid_template_areas": null,
            "grid_template_columns": null,
            "grid_template_rows": null,
            "height": null,
            "justify_content": null,
            "justify_items": null,
            "left": null,
            "margin": null,
            "max_height": null,
            "max_width": null,
            "min_height": null,
            "min_width": null,
            "object_fit": null,
            "object_position": null,
            "order": null,
            "overflow": null,
            "overflow_x": null,
            "overflow_y": null,
            "padding": null,
            "right": null,
            "top": null,
            "visibility": null,
            "width": null
          }
        },
        "417df166b40a4f4ba21f48c8bde9d273": {
          "model_module": "@jupyter-widgets/controls",
          "model_name": "SliderStyleModel",
          "model_module_version": "1.5.0",
          "state": {
            "_model_module": "@jupyter-widgets/controls",
            "_model_module_version": "1.5.0",
            "_model_name": "SliderStyleModel",
            "_view_count": null,
            "_view_module": "@jupyter-widgets/base",
            "_view_module_version": "1.2.0",
            "_view_name": "StyleView",
            "description_width": "",
            "handle_color": null
          }
        },
        "30bf8afd89c04bd9a8afa67e9d7c175c": {
          "model_module": "@jupyter-widgets/base",
          "model_name": "LayoutModel",
          "model_module_version": "1.2.0",
          "state": {
            "_model_module": "@jupyter-widgets/base",
            "_model_module_version": "1.2.0",
            "_model_name": "LayoutModel",
            "_view_count": null,
            "_view_module": "@jupyter-widgets/base",
            "_view_module_version": "1.2.0",
            "_view_name": "LayoutView",
            "align_content": null,
            "align_items": null,
            "align_self": null,
            "border": null,
            "bottom": null,
            "display": null,
            "flex": null,
            "flex_flow": null,
            "grid_area": null,
            "grid_auto_columns": null,
            "grid_auto_flow": null,
            "grid_auto_rows": null,
            "grid_column": null,
            "grid_gap": null,
            "grid_row": null,
            "grid_template_areas": null,
            "grid_template_columns": null,
            "grid_template_rows": null,
            "height": null,
            "justify_content": null,
            "justify_items": null,
            "left": null,
            "margin": null,
            "max_height": null,
            "max_width": null,
            "min_height": null,
            "min_width": null,
            "object_fit": null,
            "object_position": null,
            "order": null,
            "overflow": null,
            "overflow_x": null,
            "overflow_y": null,
            "padding": null,
            "right": null,
            "top": null,
            "visibility": null,
            "width": null
          }
        },
        "21b7eb64bf83446dab71b1cd64b92465": {
          "model_module": "@jupyter-widgets/controls",
          "model_name": "SliderStyleModel",
          "model_module_version": "1.5.0",
          "state": {
            "_model_module": "@jupyter-widgets/controls",
            "_model_module_version": "1.5.0",
            "_model_name": "SliderStyleModel",
            "_view_count": null,
            "_view_module": "@jupyter-widgets/base",
            "_view_module_version": "1.2.0",
            "_view_name": "StyleView",
            "description_width": "",
            "handle_color": null
          }
        },
        "7cf5427add5c4b568e46bf651edfdc6a": {
          "model_module": "@jupyter-widgets/base",
          "model_name": "LayoutModel",
          "model_module_version": "1.2.0",
          "state": {
            "_model_module": "@jupyter-widgets/base",
            "_model_module_version": "1.2.0",
            "_model_name": "LayoutModel",
            "_view_count": null,
            "_view_module": "@jupyter-widgets/base",
            "_view_module_version": "1.2.0",
            "_view_name": "LayoutView",
            "align_content": null,
            "align_items": null,
            "align_self": null,
            "border": null,
            "bottom": null,
            "display": null,
            "flex": null,
            "flex_flow": null,
            "grid_area": null,
            "grid_auto_columns": null,
            "grid_auto_flow": null,
            "grid_auto_rows": null,
            "grid_column": null,
            "grid_gap": null,
            "grid_row": null,
            "grid_template_areas": null,
            "grid_template_columns": null,
            "grid_template_rows": null,
            "height": null,
            "justify_content": null,
            "justify_items": null,
            "left": null,
            "margin": null,
            "max_height": null,
            "max_width": null,
            "min_height": null,
            "min_width": null,
            "object_fit": null,
            "object_position": null,
            "order": null,
            "overflow": null,
            "overflow_x": null,
            "overflow_y": null,
            "padding": null,
            "right": null,
            "top": null,
            "visibility": null,
            "width": null
          }
        },
        "bac09cd9508d46488547e59321aa6167": {
          "model_module": "@jupyter-widgets/controls",
          "model_name": "DescriptionStyleModel",
          "model_module_version": "1.5.0",
          "state": {
            "_model_module": "@jupyter-widgets/controls",
            "_model_module_version": "1.5.0",
            "_model_name": "DescriptionStyleModel",
            "_view_count": null,
            "_view_module": "@jupyter-widgets/base",
            "_view_module_version": "1.2.0",
            "_view_name": "StyleView",
            "description_width": ""
          }
        },
        "f8c6c3b57d5743438bed18f383ad7499": {
          "model_module": "@jupyter-widgets/base",
          "model_name": "LayoutModel",
          "model_module_version": "1.2.0",
          "state": {
            "_model_module": "@jupyter-widgets/base",
            "_model_module_version": "1.2.0",
            "_model_name": "LayoutModel",
            "_view_count": null,
            "_view_module": "@jupyter-widgets/base",
            "_view_module_version": "1.2.0",
            "_view_name": "LayoutView",
            "align_content": null,
            "align_items": null,
            "align_self": null,
            "border": null,
            "bottom": null,
            "display": null,
            "flex": null,
            "flex_flow": null,
            "grid_area": null,
            "grid_auto_columns": null,
            "grid_auto_flow": null,
            "grid_auto_rows": null,
            "grid_column": null,
            "grid_gap": null,
            "grid_row": null,
            "grid_template_areas": null,
            "grid_template_columns": null,
            "grid_template_rows": null,
            "height": null,
            "justify_content": null,
            "justify_items": null,
            "left": null,
            "margin": null,
            "max_height": null,
            "max_width": null,
            "min_height": null,
            "min_width": null,
            "object_fit": null,
            "object_position": null,
            "order": null,
            "overflow": null,
            "overflow_x": null,
            "overflow_y": null,
            "padding": null,
            "right": null,
            "top": null,
            "visibility": null,
            "width": null
          }
        },
        "35ef447a845c4e64b6a2544be8b88cc4": {
          "model_module": "@jupyter-widgets/controls",
          "model_name": "VBoxModel",
          "model_module_version": "1.5.0",
          "state": {
            "_dom_classes": [
              "widget-interact"
            ],
            "_model_module": "@jupyter-widgets/controls",
            "_model_module_version": "1.5.0",
            "_model_name": "VBoxModel",
            "_view_count": null,
            "_view_module": "@jupyter-widgets/controls",
            "_view_module_version": "1.5.0",
            "_view_name": "VBoxView",
            "box_style": "",
            "children": [
              "IPY_MODEL_7a8c1d78c2de4971a8c0a4147b643fcf",
              "IPY_MODEL_7962d7edfe834b78a69ac2aba02e6079"
            ],
            "layout": "IPY_MODEL_fec888b4539d4d3a8181fc48d9d437b4"
          }
        },
        "7a8c1d78c2de4971a8c0a4147b643fcf": {
          "model_module": "@jupyter-widgets/controls",
          "model_name": "CheckboxModel",
          "model_module_version": "1.5.0",
          "state": {
            "_dom_classes": [],
            "_model_module": "@jupyter-widgets/controls",
            "_model_module_version": "1.5.0",
            "_model_name": "CheckboxModel",
            "_view_count": null,
            "_view_module": "@jupyter-widgets/controls",
            "_view_module_version": "1.5.0",
            "_view_name": "CheckboxView",
            "description": "log-log plot?",
            "description_tooltip": null,
            "disabled": false,
            "indent": true,
            "layout": "IPY_MODEL_755f9137abb044eca2736c5a841989c8",
            "style": "IPY_MODEL_dc8004b9cadb4d3091b3ac3bb95be9be",
            "value": false
          }
        },
        "7962d7edfe834b78a69ac2aba02e6079": {
          "model_module": "@jupyter-widgets/output",
          "model_name": "OutputModel",
          "model_module_version": "1.0.0",
          "state": {
            "_dom_classes": [],
            "_model_module": "@jupyter-widgets/output",
            "_model_module_version": "1.0.0",
            "_model_name": "OutputModel",
            "_view_count": null,
            "_view_module": "@jupyter-widgets/output",
            "_view_module_version": "1.0.0",
            "_view_name": "OutputView",
            "layout": "IPY_MODEL_39eeb6e81a984026a15facd47ec94707",
            "msg_id": "",
            "outputs": [
              {
                "output_type": "display_data",
                "data": {
                  "text/plain": "<Figure size 960x640 with 1 Axes>",
                  "image/png": "iVBORw0KGgoAAAANSUhEUgAAA1AAAAJkCAYAAAAfh8A+AAAABHNCSVQICAgIfAhkiAAAAAlwSFlzAAAYmwAAGJsBSXWDlAAAADh0RVh0U29mdHdhcmUAbWF0cGxvdGxpYiB2ZXJzaW9uMy4yLjIsIGh0dHA6Ly9tYXRwbG90bGliLm9yZy+WH4yJAAAgAElEQVR4nOzdeXxU1fnH8c+ThLDLXlYlgAhWRXYFRbCCKApqXVvBIi6gVQGtVqpS1LqL/anV1h33jUgllEVBcEFR2RRBEWRHFJDIFtbk/P44M2QymZlMQrYh3/frdV+T3HPunTMzN8l9cs55jjnnEBERERERkYIllXUDREREREREEoUCKBERERERkTgpgBIREREREYmTAigREREREZE4KYASERERERGJkwIoERERERGROCmAEhERERERiZMCKBERERERkTgpgBIREREREYmTAigREREREZE4KYASERERERGJkwIoERERERGROCmAEhERERERiZMCKBERERERkTgpgBIREREREYmTAigRKXfMbLCZuQhbjpn9ambzzewRMzuyrNuaqMxsTOA9XVXWbSlu5l1lZrMD10tO4LXOCpT3Crmm0kq5bScFrt35Zvazme0NtHGJmb1kZuebWeXSbFNFZ2azAtfCuLJui4gkBgVQIpJIDKgFdABGAt+Y2eVl2yQphx4Anga6468XK8zBZrYqcEM9prgaZGbNzWwa8An+2u0A/AaoFGjj0cAgYDywwswuLq7nFhGR4qUASkTKu35AzcBWC2gD3AbsASoDz5hZ97JrnpQnZlYDGB749h18YFILf/2cWUZt6gB8Dpwe2PUecBnQFqgHpAG/Ax4GfgGaANeUekNFRCQuKWXdABGRAuxyzu0I+X4bcK+ZrQfGAcnA34Czy6BtUv4cDaQGvr7bOfddeAXn3CwK2StVVGZWD3gXaIgP+gc5594Oq7YFWA3MNLO7gb8DHUujfQLOuV5l3QYRSSzqgRKRRPUSsDLw9almllyWjZFyo1rI17+WWStyPQAcHvj6qgjBUx7OuW3OuZuA60q8ZSIiUiQKoEQkITnnHLAk8G01oG5ouZnVM7O7A5P1fzWz3YG5LS+ZWddI5wxJXrHHzKpFKO8TknxgbpRz3B4o/zFa283sHDMbb2ZrA+3KNLM5ZnZzpOcNHJMW8ty9zKyKmd1iZl8GjndmNjjacxaWmTUxs6Fm9q6ZrQ60M8vMVgTewxPiaGfvCOXVAokTnJntN7NaEeqcHHKONnG2d4yZOWBWyO6VYUlI0gJ1IyaRMLNxgXM0D+z6e4REJmPiaU/gfI3x85oAPnHOvRzvsc65xVHOWcnMhpnZB2a2KfBe/mRmk8zsYjOL2rMW8hoGm3eF+UQbmWa21cw+NbMLwo5pZWb/NrMfAtfABjN7zsyaxPk8yWZ2vZl9Efg53BG4Zq+L9U+PwM/vIDN708yWB6693Wa2xszeNrPTox0bOD7PPDYzu8TM3gu8V9kWkjDCCkgiYX7+2j/NbFGg/XvN7EczW2hmT5vZeQW8jkL9Hgocl+caNbPqZjbazL4xs52Bz2tW+OclIqXEOadNmzZt5WoDBgMusPWKUW9iSL3fhOw/BT8sysXY7otwvuYh5X0ilN8bUp4N1I5QZ0ag/NUIZbWAaQW063ugZYRj00Lq/B74KsKxgwvxHo8JHLMqSnlmAe3MAUZFOXZloM49EcpODzvPgAh17giUrS/C64m1pQXq9grfF9g/Lo5zjClEm4aGHHdZMfxcNInyuYdu04CaUY4P1rmSvD874duoQP0+wNYoddYATQp4nquA92M8zyygepRzLIjjs/h3jPdqVaDOnfje6vBjx4XUnRW+L6SsJ7CjgHbsiNKGIv0einCNnoj/Z1G0c9x+sNeWNm3aCrepB0pEEtlvA4+78ZPvMbNWwP+AOvibv+FAC3zGszOALwPH3GpmN4WezDm3mpBhgRGeL7hvH74Hv2doofn008GEFjPDylIC7Tod2Im/seuATyJwBDAE+BFoDUyyKD1RAY8CR+HnyhwN1Ae6Al/EOKawluCDkr7AsUAD/PvYF0jHzyG618zOiHBs8LUX9B4WVGdmhLJo7sUniugXsu8YchOQ1MTPM4plaKDemsD394UdXzPwPPHqEfL1R4U4Lh8zSwUmA+3wwev/Acfhr5+uwKuBqqeHfB3NKHxCjXvw71E9/HU7J1B+d6D38G1gOdAfP4frcOAvwP7A1w/G8Ty9gScC7a4PnBA4L/ifn6eiHLsaP/zxbOB4/M/vEYFjnsO/B8PMbGgBbRiC7wV8MfDc9fHJO14o4DjMLAkffFUHNuKvjzb43u4m+M/3dmBphGOL/HsoglfxP3/XAS0Dr6E38E2gfIyZHV3Q6xGRYlTWEZw2bdq0hW/E0QMFXBJSZ1rI/gmBfXuAzhGOq4rPiOaAXUD9sPLnAmVzwvbXxN/0Z+NTZDvg0bA6PUPa1CqsbERg/w6gfZTXdDiwKVDvprCyNPL+17nfQb7HY4jRAxXH8Q8Ejv8wQtmgQNk+oEZYWfC9/0/g8auw8sqBz8UBVxShXb1C3qO0otQht/dizEG+x7OD11kx/EwMD2nzDVHqPBZS5+wI5aHXzx8jlNfFJ2kJfnbzgKoR6gV7YvcQobcr7Hn+HqWtob1CXYrwflwTvH4Bi/EZOuCBAs41iwg9UPgANXiOfD2lBZzzYH8PhV6j24G2Ec7RFMgK1Ln/YK8xbdq0xb+pB0pEEkZg3kZjM7seeDaw2+Fv5jGz3wADAvufcc7lm6fknNsF3BD4tgq5c1SCgr0encysZsj+HvjMpV/he2DAp54OFew5Weuc+yGsLJha+/+ccwsjvT7n3FrgX4FvL41UJ2Cqc25yjPLS8GLgsXuE3rLge5hCSC+MmR0GdML3HvwDf5N+nJnVDzm2G/5zCT1PogrOyyuOZBZXBh6/AR6PUuev+CFj4IfPRfOZc+618J3OuS34FOvgP7u/Bn5ewr0eeEwF2sd4nh+J3mN3I7A38PWQGOeIJnj9Ncf32kaTie+pLYrQTMVR5zSGK6bfQ6Eed5GzSa7HD5EE6BJv+0Tk4CmAEpHybmZwMjX+xvtH/H/aq+N7g0Y65z4I1O1O7u+1t6Kd0Dn3ObnDuXqEFc8KPKaElQWDow/wi6HuA44xswYR6oQP3zsS34ME8IGZ1Yi2AYsC9Y4PDNuK5H/RXltxMrPOZvYfM/s6MGk9O+SzCCY5SAFahR7nnFsHBAPI0CF6PfBp5xcE6nyJHwrYK6ROsP4a59yK4n1FicnM6uCH2gG87ZxzkeoFbsozAt+eHOOUU2KUBT+3PcCHUeosD/m6cYxzZTjn9kUqcM5tDjn/SZHqmFkbM3vEzOYGEl3sD7n+doZUjZVo5APn3O4Y5bEsxQ8PBnjczI6P87ji+D0UKtbnFRw+2CjOtolIMVAAJSKJJht/k/cc0Mk592hIWfOQr5cQWzAASAvdGbixD94ght78HwiOnHM78fONLLjfzKriJ3tD/p6TtiFfz8APyYm2BXu3kgjLLBiixAMLM7sH/xqH4ocyHUb0vxn5MukReR5UeIAZfPxdjDqJLNgbVPsgz3MEuetWxXtd1w30+EUSqzcl2OO0KUbwE9orVTXGub6NUQa5ryUtvMDMrsH/M2EkvteyNj74jiTS9RdU5J8V51wWfo4T+J/theazUL5gZkPM7PAohx7076EwsT6vrMBjrDmTIlLMFECJSHnXj9wJ/NWdcynOuSOdc1c6574Kqxs65G57AecNlteMUJbnxt7MauMTPmQDH4fVCd7wdyd3Adfwm/9YN3ixVImyPyvK/mJhZhfjFyc2/Ou9FN8D0gAfSNXEB1VBkRZlD74HHSw3VfnvwsryvIeBIPSEsLJEFkxIUsXMmsesGVtRruvw40Jlx/Gc8dSB2AsS74hRFlpeI88JzU7EJ56oBHyNH77YHp/IInj9hQaHka6/oIP6WXHOjQUuwM9XAp8IYjD+HzirzWxKhAQOxfV7KCiez6JUFoYWEU8BlIiUd7ucczsCW0E3Q6E3KzWi1spbHukGJ3jz3j4QPPXE/76c65zbFigLDhsMBgXBQGql89n8QoXeSLZzzlmc26oCXkNJ+XPg8VN8Eo/XnHNLnHObnXPbnXM78De3sQTfw2SgZ2AY2vH4DG7BjHSz8UPF2ppfM+kkogehiejjkK97Rq1VsKJc1+HHlYV42xoeaF2LDwhWAt2cc885575yzm0Muf5iBU3FyjmX7pw7ER/AnQs8jO9dM3xGvc/MrGXIIcX1e0hEyikFUCJyKFkV8vUx0SoFHBvhmKBZgcdgqvJIw8o+w8+POMrMmkapExQ6jKhVhPLyJpgY4C3nXE6UOsdF2Q+Ac24DufMzTiVvELojUGc3uamzf0fue7jCObeGxJdBbrr2WEkdCrIGnywF4r+ut4QE+2WloNTawWUIVoXtD15/78b4p0nM668kBAK4d51zNzvnfgsMxH8utchNEgPF93tIRMopBVAicij5lNzhLhdEq2RmXcidp/BxeHnYzf/vyO1l+iCkzm58EAV+nZxgFqxIAdQ35M5juCTmKygfKgceo805gdhZw4JmBR4jvodh359K+Zn/FAx6Yr3+AjnnfgReCXx7spnF854BYGYHbrydc5nkrvlzfoxjquLXTQKf6KSs9TeziD2VgcyLwV652WHFxXX9lSjn3KvkzvMKnedYLL+HRKT8UgAlIocM59wmYGLg26vNrEN4HTOrgs/iB74H6eUopwvexJ+L/y/xXvLf6AXr/JXcIW35bv4DWdMeCXx7kZnFSlGOmSUHMveVlWCP2QAzyze3wswG4xfyLEjwvTgOOCdsX3idM4gdhJamzYHHJsVwrluA9YGvnzGzC2NVDmRjfJDcdPZBwbT97czsz0R2L35RXPBrlZW1JvjFdCN5hNzhms+HlQWvv76BxanzMLPTgMuLpYUxmFnTQGbMaOXVyM1C+EtwfzH/HhKRckgBlIgcam7Gz6moDMwws+vMrLmZ1Tez0/G9IsFsebcF0ilHEryJD2ZA+yLCcKJgnbTA47LA2iyRPIZP22zAK2b2ipn1CaxrVdvM0szsTDN7CD/3Y0Tcr7j4vRl47Am8ZmadzKyembUzs0fwN/MFZReD3B4ow7+PkYLQz/ET/ZuSO6+lrAOo4Lo955pZLzOrbmYpga1QfzcD19e5+AWSKwNvmdk0MxtoZq3NrK6ZHRF4nvvxGSZvJn9SgP/g1yADeMzMxprZMYHjO5nZS+ReMxnOuVJJdV+AlcCdZvYvMzs20NbOZvYmuT1Irzrnvgw7Lnj9HQVMMrOTAj+/bcxsNH5o5FJKXh9gnZk9a2a/N7MjzaxO4PM6G5gO1AnUfT3s2OL6PSQi5VFZr+SrTZs2beEbPsuVC2y9inD8KfgU0i7Gdh9gMc7xm7D6d0aoUwl/kxSs81QB7aoJvF1Au4LbI2HHph3MexKhLWMC51oVoawaPoV5tLZ9A3SNpz34NM3Beh9GqfNeSJ2lB/m6eoWcK60odfBzd3ZFee1jitiuFvgb7ng++1XAeRHO0RQfRMU69j2gZpQ2BOsMLsp1Ee+5QsquLuA1z8Jn1gw/PgnfgxPtuLX4tZ9itWFVvJ9XoB0OGBe2f3Ccn9d9Uc5b5N9D8VzHhfm8tGnTVrybeqBE5JDjnPsI/9/rfwALgW34bG+r8XNSTnTOjXLOuRjn2EjuGi0QeWjePvL2qOSrE1Z/u3PuQvyimc8D3+MDsP34IUCf43uqTgf+EvtVlhzne9p6AXcC3+Hfu63AAuA2fPC0Mc7TzYzydWHrlBrn3Lf4jIBvAevInRN1MOdc6Zzrjf/sH8Vfl5vwn/02/Fyal4DzgNbOuQkRzrEe6Axcg7/p/yXQtp+BycAfgL7OufKS0W0vfmjmSGAePtPczsDX1wOnOb+mWh7OJy45L3DcQvwQtx34Xs/7gPbOudLogXoLP6fsn/hkJ2vxPwu78D+74/BZAiMOUyyO30MiUj6Zfm5FRESkuJhZ8MbicufcuLJsi4hISVAPlIiIiIiISJwUQImIiIiIiMRJAZSIiIiIiEicFECJiIiIiIjESQGUiIiIiIhInJSFT0REREREJE7qgRIREREREYmTAigREREREZE4JXQAZWZtzOx6MxtnZovMbL+ZOTO7PY5je5vZZDPbbGa7zOw7M7vHzGqURttFRERERCTxpJR1Aw7SNcDwwh5kZiOBRwAHfAz8DPQA/gacb2YnO+c2F2dDRUREREQk8SV6APUN8DCwAJiPD4AGxTrAzDoAY4FsoL9zbkpgfzVgInAa8B/gguJooJntBCoBG4vjfCIiIiIiclB+A+xzzlUvysEJHUA5554N/d7McuI4bBRgwAvB4ClwriwzuwJYge+Fauuc+64YmlkpKSmpUuPGjZsWw7lEREREROQgbNiwgZyceMKGyBI6gCosM0sFzgp8+1p4uXNutZnNxg/nOw+4rxiedmPjxo2brlu3rhhOJSIiIiIiB6NZs2asX7++yKPDEjqJRBEcBVQLfD03Sp3g/g4l3xwREREREUkkFaoHCmgRePzVObc9Sp21YXULZGaxupcaxXseEREREREp3ypaD1TNwOPOGHV2BB4PK+G2iIiIiIhIgqloPVAlwjnXLFpZoHdKCSRERERERA4BFa0HKjhsL1bKwuBCuttKuC0iIiIiIpJgKloAtSrwWNvMakapc3hYXREREREREaDiBVBLgazA152j1Anun1/yzRERERERkURSoeZAOef2mtn/gAuBPwIzQ8vNrDnQPfDthFJuXh7OOXJycg5qkS+RSMyM5ORkzKysmyIiIiKScCpUABVwP3ABcLmZpTvnpgKYWTXgOSAZSHfOfVcWjcvJyWHLli1kZmayf//+smiCVABJSUnUqFGDWrVqUaNGjYIPEBEREREgwQMoM+sIPBmyq1XgcaiZnR2y/zzn3AYA59x8M7sJeASYbGYfAhuBHkBj/DC/YSXe+Aicc6xfv54dO3YUXFnkIOTk5LBt2za2bdtGw4YNqVu3blk3SURERCQhJHQAhV+r6YQI+5sFtqDKoYXOuX+a2SLgJqArPivfGuA+4L4Yi+yWqMzMzAPBU926dalVqxbJycll0RQ5hDnn2LVrF5mZmezatYuff/6Z1NRU9USJiIiIxCGhAyjn3CygSBM5nHPTgenF2qCDFAyeatWqRcOGDcu4NXIoS01NpWbNmqxZs4Zdu3axdetWBVAiIiIicahoWfjKLeccWVk+QWDNmtEyrIsUn6SkJOrUqQP44N05V8YtEhERESn/FECVE9nZ2QduYCtXrlxAbZHiUbVqVcDPicrOzi7j1oiIiIiUfwqgyonQ//4rvbSUltBrTT1QIiIiIgVTACUiIiIiIhInBVAiIiIiIiJxUgAlIiIiIiISJwVQIiIiIiIicVIAJVLGli9fzrBhw+jYsSOVKlUiLS0tZv3PP/+clJQUNm/ezDvvvMPJJ59M/fr1qVy5Mi1btuTGG28kMzOzdBovIiIiEoFzsGdPWbeiZCiAEiljixcvZtKkSaSlpXHssccWWH/ixIl069aN+vXrs2XLFnr16sVzzz3HtGnTGDlyJC+99BIXXHBBKbRcREREJNcvv8Cbb8Lll0OzZvDQQ2XdopKRUtYNEKno+vfvzznnnAPAsGHDmDp1asz6GRkZDBo0CIArr7wyT1mvXr2oUqUKV199NWvWrOGII44omUaLiIhIhZedDV98AdOmwdSp/uvQVVGmTYPbby+79pUUBVAiZSwpKf6O4FWrVrFo0SL69+8ftU7dunUB2Ldv30G3TURERCTUjz/mBkzvvw+xZg189hls2waHHVZ67SsNGsInh5QVK1ZQpUoVzIwTTzyxSOcwM2bNmlXo495++23MjJYtW0Ysd85x1113kZycTEpKCo888kihnyMjI4PWrVvTtm3bPPuzs7PZvXs3c+fO5c4776Rfv360atWq0OcXERERiebJJ6FpUxgyBN56K3rw1LYtDB8OGRlQpUrptrE0qAdKDikjR45kT2DG4qJFi8jJySmwh2ffvn1UqlSpyOVB8+bNA6Bz5875yrZu3cqgQYPIyMigQYMGvPnmm5x66qkFnjPcxIkTI/Y+1atXj61btwJw+umn89ZbbxX63CIiIiIAy5dD5cpw+OF590e4xQGgZk047TQ44wzo2xcKyIeV8NQDJYeMadOmMXHiRBo2bEhKSgpZWVl8//33MY/ZtGkTLVu2ZOzYsRGHvE2cOJG2bdvy/vvvF/j8wQCqU6dOefYvXryYLl26kJGRQefOnZk7d26Rgqdt27bx4YcfMmDAgHxls2bNYvbs2fznP/9hyZIl9O/fn+zs7EI/h4iIiFQ8O3b43qLrroMjj4TWreGJJ/LX69QJ6tXzX3foAKNGwYcf+uQREybA0KGHfvAECqDkELFv3z5GjBgBwH333cdRRx0FwMKFC2MeV79+fR5++GGeeuopjj/+eGbMmAHAsmXL6NevH5dddhlDhgyhe/fuBbZh/vz5QN4A6u233+bEE09k2bJlDB48mI8//rjIiR2mTp1KjRo1OOmkk/KVtW/fnu7duzN06FDGjx/PzJkzmTBhQpGeR0RERA5tzsHXX/sseaedBnXrwoABPmj64QdfJ1JOq+RkHyj99BPMnw/33gunnAJxDNQ5pCiAkkPCY489xnfffUfXrl0ZPHgwxx9/PFBwAGVmXHzxxSxZsoQbbriByy67DIDhw4dz7LHHsmLFCm677TaqV68e8zyrVq1iy5YtAHTs2JHs7GxuueUWLrroIvbs2cMTTzzBCy+8QJWDGAickZFBv379SEmJPfK2Y8eOmBnLly8v8nOJiIjIoSUz089bGjLEpxg//ni45Rb44AOIlHdq8WLfsxSuRw9o2LDk21ueaQ6UJLyff/6Zu+66CzPj8ccfx8xo164dr7/+eoEBVJCZkZycjJkd2JecnBx3hrzg8L0WLVqQk5ND3759mTFjBo0aNWL8+PERe40KIzs7m8mTJ/Pkk08WWHf27Nk456ImsxAREZGK58UXYeTI2HWaNfPzmM44w/dM1a5dOm1LNAqgJOHdeuutbNu2jcGDB9O1a1eAuHugANLT07nttttISkpi3Lhx9OnTh0cffZQJEybQqlUrRo0axXXXXRez9ygYQFWtWpVOnTqxZs0aunXrRnp6Oo0bN475/FlZWUyePBnwWQSzsrIYP348AF26dKF58+bMnj2b7du3c8YZZ+Q5tm/fvpx22mkcc8wxVK5cmQULFvDQQw/Rrl07zj333AJfu4iIiBw6MjN9avHWrf0cpVBnnJE/gKpc2Q/BCwZNRx8NIf9LligUQCWQ3btzx6Umolatij+V5RdffMGLL77IYYcdxv33339gf7t27QDfO/XTTz/RqFGjiMdv2rSJ4cOHM2LECIYPH34g217r1q2ZPHky7777LiNHjqRdu3acfvrpUdsRDKCWLFkCQJ8+fZg0aRKpqakFvoaNGzdy4YUX5tkX/P6FF15g8ODBTJw4kVNOOYVatWrlqde1a1deeeUVVq5cCUBaWhrXXnstN954Y1zPLSIiIokrOJdp8mS/ffaZX9z22mvzJ4Fo0waaN/dBUzBg6tkTqlUrm7YnMgVQCeSHH+DYY8u6FUX3zTdwzDHFdz7nHNdffz3OOUaPHk3DkAG5TZs2pV69evzyyy8sXLgwX89NUIMGDVi5cmXUNOXnnHMO/fr1KzCNeTCBxPnnn096ejqzZ89m0aJF+TLyRZKWloYLXbY7goyMDP785z/n23/33Xdz9913F/gcIiIicmjYtg1mzMgNmn78MX+dyZN9cBXam2QGCxdqWF5xUAAlCWvcuHF88cUXtGnThhtuuCFfebt27Zg5c2bMAAooMDgqqHzNmjVs3rwZgKeffpr69evz1FNPMWDAAL744guaNm0ax6uJbenSpQd9DhEREUlMK1dCeroPjD75JHLSh1CVK/sEEPXr592v4Kl4KICShLRt2zZGjRoF+DlEkdZVWrZsGRDfPKhQBfUGhQsO32vevDl169bl8ccf5/vvv2fmzJkMGDCAjz/+mGrqHxcREZEi+uADuPnm6OVVqsCpp0K/fnDmmX7ahJQcBVAJpFUrPwwuURXnD/Odd97Jzz//DMDatWtZu3Zt1LqFDaAKKxhAdezYEfA9VuPHj+eEE05g/vz5DBw4kPT09DwZ/kRERERCLVvme5jatfPBUKhIA2latICzzvJBU69eULVqqTRTUACVUKpUKd45RInqu+++4/HHH6dSpUosWrSINm3aRKw3f/58OnXqxLJly8jKyiqxXqBIC+jWrVuXjIwMTjzxRCZMmMCoUaPyJLkQERGRim3XLvjwQ5gyxQdOweUbBw7MH0A1bQpdukCtWj5g6tcPjjpKGfPKigIoSTgjRoxg3759jBgxImrwBHD00UeTlJRETk4OX3/9NSeeeGKJtCe8Byqobdu2vPHGG5x99tk88MADtG3blsGDB5dIG0RERKT8W7sW/vc/mDTJD8vbtSt/nalTfSa95OS8++fMgTiXp5QSpo9BEsq7777LtGnTqF+/Pn//+99j1q1atSotWrQASm4Y37p169i4cSOQP4ACOOOMMxg7diwAQ4cO5aOPPiqRdoiIiEj5tHQp3H47tG8PRxwB11zjg6hIwVNKis+4HMhNlYeCp/JDH4UkjD179nDjjTcCcNddd1E7jlQyxwTGPJZUABXsfWrSpEmeNOqhhg8fzlVXXcXevXv5/e9/zw+JvJiXiIiIFMrChXDPPfDVV5HLGzWCIUNg/HgfOM2cCVFuKaScsMJmHJPCMbN1TZs2bbpu3bqY9fbt28fywODXI488ssDU2SLFQdediIjIwVu+3A/La9PGZ8EL9euvPp14drb/3gxOOMEngDjrLN8zpblMpatZs2asX79+vXOuWVGO1xwoEREREZFC2LcPZs/2QdOkSX6YHsCAAfkDqNq14eyzITXVP555JjRoUPptluKjAEpEREREpACbN/sED5Mm+cetW/PXmT7dz20KTyn+3/+WThuldCiAEhERERGJYM0aeO01HzR99hnk5ESvm5Lih+Zt3AjNm5deG6X0KYASEREREZxRzNEAACAASURBVIlg8WIYNSp6eb16fk2ms8+G00/3w/Xk0KcASkREREQqrI0bfVrxBg18IBTq1FOhWjXIysrdd9xxvt7ZZ/sep/D1muTQpwBKRERERCqU776DiRP99umn4JwPlsIDqCpV/L7t2/3jWWdpeJ4ogBIRERGRQ9z+/X4OUzBo+v77/HU++ggyM6FOnbz733hDacYlLwVQIiIiInLI2bkTpk2Dd9/1Q/R++SV2/eOPh3Xr8gdQCp4knAIoERERETnkzJ8P558fvbxSJfjd7/zaTf37w+GHl17bJLEpgBIRERGRhOQcfP21X5PplFPylnXr5rPkhfY81anj5zENGAB9+8Jhh5Vue+XQoABKRERERBLG3r1+vlJwPtPq1dCpE8ydm7deSopP/PDxx3DOOT5oOvlkv1/kYOgSEhEREZFybdUqeOghv7Dtxx/7HqdQ8+b5+UvNmuXd/+STULWq5jFJ8VIAJSIiIiLlzty58PDD8P77sGVL7LpVq/qhfOEBVLVqJdc+qbgqdABlZocDfwXOBJoB24F5wGPOuf+VZdtEREREKprvvoMJE+D112HRoth1f/Mbn/xhwADo3VvBkpSeChtAmVkXYCpQF9gATAHqAacCp5vZXc65v5dhE0VEREQOafv3w9SpMHu2D5yWLo1dv3JluO46n12va1dITi6ddoqEqpABlJlVAdLxwdObwOXOuV2Bsi74YGq0mX3inHu/7FoqIiIicmjZuRMefxxeeQW+/RZycmLXr1nTZ9gbMcL3NImUtaSybkAZOQ84HPgVGBYMngCcc18CdwW+HV0GbZMKZPny5QwbNoyOHTtSqVIl0tLSYtb//PPPSUlJYfPmzXn279+/n3bt2mFmvPHGGyXYYhERkcL7+We4+WZo0QJq1IBRo2Dx4sjBU2oqnHkmPPAAfPUVbNsGkyYpeJLyo0L2QAFdAo/znHO/RiifHng8ycwaOed+KqV2SQWzePFiJk2aRNeuXXHOkZmZGbP+xIkT6datG/Xr18+z/9FHH2XTpk0l2VQREZFC+fZbePBBmDLFB1CxVK4M553ntzPO0PpMUr5V1B6oGoHHX6KUB/+9b0DHkm+OVFT9+/dn3bp1vPPOO5xwwgkF1s/IyGDAgAF59q1bt44777yTBx54oKSaKSIiEpeVK+H++6F2bfjtb2HcuOjBU1IStG0Ld90FGzf6xBEXXaTgScq/itoDtTHw2DJKeej+FgWdzMzWxShuFG+jpOJJSor/fxirVq1i0aJF9O/fP8/+ESNGMGDAAE4JX4JdRESkFHz7LbzzDqSnw4IFseumpED79nDllTBkCFSqVDptFClOFbUH6oPAYycz6xChfFjI1/o/SDn19ttvY2b5tuTkZBo0aMCZZ57JtGnTCnVOM2PWrFlFbkvLlpFjcuccd911F8nJyaSkpPDII48U+jkyMjJo3bo1bdu2PbBv6tSpvPfeezz00EOFPp+IiEhR5OTAa6/BSSdB9eq+p+n226MHT1Wrwmmn+SBrzx748ksYOlTBkySuCtkD5Zz7wMw+Ak4BJprZtcBH+DTm1wKXAfuASkABuWHAOdcsWlmgd6ppcbRb8po3bx4AxxxzDJ07dz6w/5dffmHOnDlMnTqVadOmkZ6eznnnnRfxHPv27aNSjN/gBZWHtyW0HUFbt25l0KBBZGRk0KBBA958801OPfXUAs8ZbuLEiXl6n3bv3s11113H3//+dxo3bsyqVasKfU4REZF47N8Pzz8PTz/tEzvs3x+9bnIydO4MTZvCTTdB9+6l106R0lBRe6AALgRm4xfQnYjPyPcDcBPwKPBVoF4Ba19LWQkGLddccw3jxo07sGVkZLB69Wo6d+6Mc46xY8dGPH7Tpk20bNmSsWPHsm/fvnzlEydOpG3btrz/fsGZ7INt6dSpU579ixcvpkuXLmRkZNC5c2fmzp1bpOBp27ZtfPjhh3nmP917772kpqZyww03FPp8IiIiBdm9G/75T2jXzid5GDoU5s2LHDylpsJZZ/kg6+efYc4cP6RPwZMciipkDxSAc26jmfUAegO/w/c+/Qy865yba2Y/BqoWsA62lJX58+cDcNxxx+Urq1atGpdccglz585l/fr1EY+vX78+Dz/8MHfccQfPPfccjz/+OADLli3jwQcf5NNPP+Xmm2+mexy//YNtCQ2g3n77bYYMGcKOHTsYPHgw//73v6lSpUqhXyf4oXo1atTgpJNOAmD16tU8+OCDvPrqq+zcuRPwQRZAVlYWW7dupVatWkV6LhERqbj27oWHHoKXX4bvvwfnYtdv1gwuvRT+9jclf5CKo8IGUADOOQe8H9gOMLNWQGN8lr75ZdA0KcCqVavYssV3DkYKoIADKcFbtIicB8TMuPjiizn//PN59tlnueyyywAYPnw41113Ha+88gp169YtVFs6duxIdnY2o0aN4qGHHqJSpUo88cQTXHvttYV+jaEyMjLo168fKSn+R3blypXs2bOHCy64IF/dK664ghtuuIEdO3Yc1HOKiEjFsGsXTJvme4wyMmDr1tj1W7SAiy+Gv/wF6tUrnTaKlCcVOoCK4S+Bx6edc3vLtCUSUXDIXLNmzahTp06+8qysLMaPHw/AH/7wh5jnCiaeMLMD+5KTk+POkBdsS4sWLcjJyaFv377MmDGDRo0aMX78+AO9RkWVnZ3N5MmTefLJJw/sa9++PTNnzsxT76effuIPf/gDd9xxB3369Dmo5xQRkUPbhg1+jaa1a/06TVlZ0euaQevWMHAgjBzpF8IVqcgqbABlZr8F1jnntoXsSwFuAYYCy4F7yqh5ke3eDT/8UNatKLpWraCIQ9jCBYOW8N6nzZs3s3DhQkaPHs3SpUu54IILuOKKK6KeJz09ndtuu42kpCTGjRtHnz59ePTRR5kwYQKtWrVi1KhRXHfddTGH3gXbUrVqVTp16sSaNWvo1q0b6enpNG7cOObryMrKYvLkyQCsWLEiT+DXpUsXmjdvzuzZs9m+fTtnnHHGgeNq165Nr1698pwrmETit7/9LT169Ij5vCIiUvGsXg333AMTJxa8sG1SEhxzDAweDNdeW2x/vkUOCRU2gAKuBoaa2TxgPVAZOBFoiA+e+jjndpZh+/L74Qc49tiybkXRffON/21cDIJBy5QpU/L0HAWlpaXx2muvcckll0QsB59EYvjw4YwYMYLhw4cfyLbXunVrJk+ezLvvvsvIkSNp164dp59+eoFtWbJkCQB9+vRh0qRJpKamFvg6Nm7cyIUXXphnX/D7F154gcGDBzNx4kROOeUUzWkSEZFC++EHHzRNmgSbNsWum5YG55/vty5d/JpNIpJfRf7RmAykAR2BzsAeYCkwFviXc25X2TVNChJM2tC3b18aNcpdq3jLli3MmzePVatWcc8999ClSxeOPPLIiOdo0KABK1eujJqm/JxzzqFfv34FpjEPtuX8888nPT2d2bNns2jRonwZ+SJJS0vDFTBDNyMjgz//+c/Fci4RETn0rVgB//iHn8+0eXPsulWrwo03+qCpfXs/XE9EYquwAZRz7j3gvbJuhxTemjVr2Bz4i/D0009zxBFH5Cnfu3cvl1xyCRMmTODKK6+MuTBuQcFRQeXhbalfvz5PPfUUAwYM4IsvvqBp04NfAmzp0qUHfQ4RETm0ZWbCf//rA6cVK2LXrVIFunWD4cNhwAAFTSKFVWEDqITUqpUfBpeoWrUqltMEh8w1aNAgX/AEkJqayjXXXMOECRP45JNP4l4MFyh0D06wLc2bN6du3bo8/vjjfP/998ycOZMBAwbw8ccfU61atUKdU0REJB7BoOntt+H992Mvblu1KvTo4Re2jTEqXUTioAAqkVSpUmxziBJZtEVrQwWTPmRnZ5fosLZgWzp27Aj4Hqvx48dzwgknMH/+fAYOHEh6enrUeVgiIiKFsWJFbiKIzEzIzo5et2pVOOUUuPlmOO200mujSB5ZWbBoESxc6Bcau/76sm7RQVMAJQkn0qK14YKZ7dq1axdXMofibEvdunXJyMjgxBNPZMKECYwaNYr777+/xNogIiKHtuCcpngSQXToAEceCUOHKmiSMvL9975rdOFCvy1dCjk5vqxRIwVQImUh2OvTuXPnfGX79+/nmWeeYezYsQDcdtttpdKWYA9UUNu2bXnjjTc4++yzeeCBB2jbti2DBw8u0baIiMiho7BB04UX+i1K3iSR4pWT4y/SWrWgQYO8ZV99BX/9a+TjfvrJbyEJwBKRAihJKOvWrWPjxo2AT/P93//+F/BzlzZs2MA333zDhg0bqFy5Mo899hgXXXRRqbQlPIACOOOMMxg7diwjRoxg6NChtGzZklNOOaXE2iMiIolt9WofNL37bsFBU3B43v33++x5IiVm715YvBjmz/c9SgsW+CBpxw547LH8PUrRLsjUVD8VZfNmBVAipSnY4wMwceLEA18nJydTs2ZNjjrqKP70pz9x1VVX0bJly1JpS5MmTWjYsGHEOsOHD2fx4sU888wz/P73v+fzzz+nVTEl0xARkcS3c6dPN/7GG/C//xWcCEJzmqRE7dwJX3/tg6UFC/zjN9/Avn2R6y9YkH9fq1Zw+OH+sX1730Xavj20beuDqEOAad2YkmVm65o2bdp03bp1Mevt27eP5cuXA3DkkUfGnTVO5GDouhMRKX2ZmTBhArz3ng+esrKi11XQJKWqVy/48MP467dvHzmIcq5c58dv1qwZ69evX++ca1aU49UDJSIiIlLCsrLg4YfhxRfjW6epRw+45Rbo3bt02ieHuJ9+yu1RWrDA9zJ9/bW/2EJ16BA9gEpOht/+NrdHqX17OP74yHXLcfBUHBRAiYiIiJSAvXvhX/+CZ57xichiDfpp2xYuuQTOOUdzmuQgOOcn04UGS/Pnw4YN+et+8w2EJ+QKzumuXNkHRx06+H0dO8Kxx+YPuCooBVAiIiIixSQ7G557Dv79b/8P/mD25kh+8xu44gofOB133CH/T3spSZs2+QtpwQI/RjQe8+fnD6DOOstfuG3bgob1R6UASkREROQgOAezZsGtt8K8ebEXt01K8j1MN9wAgwb570UKtG8fLFnig56qVX2wFKpOHfjsM9i1K/Z56tfP7VGKkEGYunX9JjEpgBIREREpgiVLfPa8N96AZcui1zPz2ZuHDoVhwyBFd18Sy/798O23MHeuj8jnzvVpw3fv9uVduuQPoFJS/JC7OXNy9zVrlhsoBYfiNW2qrs5ioB9hERERkTjNng1PPumnj3z9dey6rVvD5ZfDyJGaOiIxrF0LH3yQGzAtXBi7J+nrr32PVPgQu6uu8pPoggFT+AK3UmwUQImIiIjEsGwZjB4NkyfDtm3R61Wt6uc1DRwIf/0r1KxZem2UBJCd7XuXKlfOu3/qVLj66vjOkZzsI/ONG31vUqghQ4qnnVIgBVAiIiIiYTZtgrvvhjff9Peq0VSp4ufdX3IJ9OsH1aqVXhulHMvO9qkX583LHYa3YIHvvvzTn/LWDU/kEJSU5Md+durkt86d/TC9qlVLvv0SkwIoEREREfwUk7FjfRa9lStj123RAsaMgXPPhcMOK5XmSXmVkwPff593ztKCBbBzZ/66c+fmD6COOcZH3i1b5g+WFJGXSwqgKrB169bFLG/WrEiLM4uIiCQM5+Dzz+H66/29b6y1mmrUgL59feB07LGl1kQpz666ymcR2bEjvvrz5uXfl5oKW7bkH9on5ZYCqArs8MMPj1nuYv0VERERSWDffQevvgqvvQYrVkSvl5oKJ58Mt90Gv/td6bVPygHnYP16+PJL36M0Zkz+vPPOxQ6ezPyaSsFepRNOiFxPwVNCUQAlIiIiFcL8+XDnnX543qJF0eslJfkkZiNHwh/+oLWaKowtW/wQuy++8EHTl1/Chg255ZdeCm3a5D2mUyc/5hN8sHTUUT5QCgZM7dsrm8ghSAFUBbZ27VoAli5dSu/evQ/snz59Om3Cf0GIiIgkoLVr4e9/h//+FzIzo9c77DC/bM7ll/tFblNTS6+NUgb27fNjN4OB0hdfwA8/xD7myy/zB1C9e/uJc506+ahbE+IqBAVQFVhwjtPWrVvz7G/UqJHmP4mISMLatQvuvx9eeMEHUNGkpsLZZ/uOhX79tFbTIcu5/IvH7tkDPXv6BBDxOPxwf0y41q3hxhsPvo2SUBRAiYiISMLLyfHzmcaOha++ip0MonZtuO8+n3q8du3Sa6OUgpwcWL48t1fpyy/9grLvvpu3Xo0a8Nvf+hWRw9WtC127QpcuuY8NG5ZO+yUhKICShJOWlsbq1asPfG9mVK9enVq1atG6dWs6derERRddRNeuXcuwlSIiUhrWrYM77vDB09690etVrQqnneaH80VbdkcSUDDJQ+i8pbCRNdSuHbkXqksXn0GkU6e8wVKLFvnrioRQACUJ66STTuLII48EYNeuXWzevJkFCxYwa9Ysxo4dS8+ePXn++edp2bLlQT/XqlWraNGiBc2bN2fVqlUHfT4RESm67dvhnXfg5Zfhgw+i9zYlJ/t74ltvhQEDSreNUgK2b4f9+/2aSw895OcwFbAkCwC//up7pVq3zrv/kUfg6achRbfDUji6YiRhXXnllQwePDjPPuccU6ZMYcSIEXz44Yd0796dzz77jBYtWpRNI0VEpFjs3QsPPwzTp/v75qys6HWPPBKGDfPJICpVKr02SjHatw8mT/b55pct8x/6kiU+lXiPHpCeXvA52rTJ7VWKNFZT4zeliBRAVXB79uzh5ZdfzrPv5Zdf5s4776RyAq5JYGb069eP7t2707VrV5YtW8aVV17JjBkzyrppIiJSBOnpPiHE/PnR5/snJfnpLKec4u+vGzQo1SZKcVi8GF5/HWbOhG+/jZ4ycc4cn18+KSnvBdGsWd55S506Qa1apdN2qXAUQFVge/bs4eyzz2b69Ol59j/wwAPMmzePSZMmJWQQBVC7dm3+7//+j7POOosPPviAefPm0alTJwCWLFnCm2++yfTp01m1ahWbNm2iZs2adOjQgauvvpqLLrooz7kGDx7Miy++CMDq1auxsHHRwQWHt2/fzhtvvMGUKVNYtGgRP/74IwAtW7ZkwIAB3HzzzdTWf7tERAr01Vd+XtP778Pu3dHrtWsHl13m12pq0qT02icHaccOeOst+N//YN48P49p//74jv38c6he3eeb/81v/MK0XbtC48Yl22aREAqgKrD//Oc/+YKnoOnTp/PUU09xww03lHKris+ZZ55J3bp12bJlC++///6BAOqRRx7hueeeo23bthx33HHUrl2bNWvWMHPmTGbMmMGcOXN45JFHDpzn5JNPZseOHaSnp1O9enUuuOCCiM/31VdfcfXVV9OgQQPatGlDp06dyMzMZN68edx777289dZbzJkzh3r16pXK6xcRSSSZmb736PXXYdOm6PWSkuCcc3zddu1Kq3VSZM75eUqffeZ7j956ywdMhdGhgw+UghvAs88Wf1tF4qQAqgJ7/vnnY5Y/99xzCR1AmRkdO3Zk+vTpLF68+MD+QYMG8be//S1fconggsL//Oc/ueSSSw5k8bvyyivp3bs36enp1K9fn3HjxkV8vrS0NKZPn86pp55KUsiy9VlZWVxzzTW89NJLjB49mieeeKL4X6yISAJyDmbNguuu89NbYklLg6uugptuggQdHFEx/Pyzj4KnTfNZPBYsgMCIjLgkJUGjRnD88WSecAK/9u3LS9Om8eabb/Lj66/TpEkTLr74YgYOHEirVq1K7nWIxKAAqgJbs2ZNzPK1sVYfTBD169cH4Jdffjmwr2fPnhHrtmnThjvuuIOhQ4cyfvz4QqdBb9asWcQFiKtVq8a///1vXnvtNd5++20FUCJS4W3YAK+8AuPGxQ6c6tSB3/8e7rwTmjYtteZJvHJy/Jylt96C2bN9SvBduwp3jpo14aij/KK2F13kh+MFhsrXNfNdjSG2bt3KmDFjGDNmDLt3707YqQaS2BRAVWBHHHEEv/76a9Tyww8/vBRbUzJyAhNMw+ct7dixgylTprBgwQI2b97M3sDiIRs2bAB8b1RRffrpp3z88cesWbOGrKysA3OkUlNT2bRpE5mZmdSpU6fI5xcRSURbt8KDD8LChTB1avSEEKmp0KsX3HVX7mgtKSd+/tkvuDV1qp+otnFj7BWLw7Vq5RfhysmB/v19dFy9epGbk+hTDSRxKYCqwIYMGcKIESOill9xxRWl2JqSsXnzZgDq1q17YF9GRgaXX355nl6pcNu2bSv0c23cuJHzzz+fTz75JGa9bdu2KYASkQohJ8f3ND38MHzzTfR77Zo1fRK1m27yuQFCRkFLWXHOr5306ad+mzMHvv66cOdo3hwuvRS6dfPRcCHTIx599NF8++23UcsTfaqBJC4FUBXYsGHDmDRpUsREEr1792bo0KFl0Kri45xjwYIFABx33HEArF+/nosvvphdu3Zxyy23cOmll5KWlkaNGjVISkrivffeo2/fvgd6jQrjyiuv5JNPPqFbt27ceeedHH/88dSpU4dKgUVImjRpwoYNG4p0bhGRRPLNN/C3v8F778GePZHrmEHv3jB4MJx7LlSrVqpNlHC//gpvvAGTJvmU4jt3xs7mEa5yZR8wdevme5b69TvoBWqDo0KiORSmGkhiUgBVgVWuXJlJkyYxZswY7r///gP7b731VsaMGZPw44onT55MZmAdidNPPx3wvU+7du3ivPPO44EHHsh3zLJly4r0XDt37mTy5MkkJSUxefLkfOnKd+7cyU8//VSkc4uIJIKdO/2wuxdf9CO9oqlSBW6/HQYNgiOOKL32SZivvoJXX4UPPoClS31q8cKoVw+OOw769PG9TM2bF3sTGzdufMhPNZDEpACqgqtcuTIDBw7ME0ANHDgw4YOnrVu3MnLkSAD69OlD+/btAdiyZQsAzSP8onfO8dprr0U8X2pqKgD7o6xTsXXrVrKzs6ldu3bEtZ5eeeUV9TyJyCHpnXfg7rv9/XisX3NHHQXDh8OwYRqiV+r27IH//td/WF984dOKx7vukpkPlE480a9W3KIFnHkmBEZXlKRYw/fg0JhqIIlJAZQcUpxzTJ06lREjRrBs2TIaN27MM888c6D86KOPBmD8+PHccsstNA4svJednc2YMWP49NNPI563QYMGpKam8tNPP7Fly5Y8c6oAGjZsSJ06dcjMzOTll19m0KBBB8rmzJnDqFGjivulioiUmV9/9Zmqn3vOr4MaTe3aPrHa3Xf7NU+llGzf7hec/fRTnx3vs8/8vnjVqeODpD/9yc9dqlWr5Np6EBJ9qoEkLgVQkrCeffZZZs2aBcCePXvYvHkz8+fPP9DL1KtXL55//vk8vU39+/enU6dOzJs3j6OOOoqePXtSvXp1Pv/8c3788Uf++te/RhzaV6lSJQYMGMD48eNp3749J598MtUCA/afffZZkpOTGT16NCNHjuSyyy7jiSeeoGXLlqxZs4ZPP/2UgQMH8tFHH7F69eqSf2NEREpATg68/74f9TV+fPRs1SkpcPLJfjhfjx6l28YKyTmf4OG11+DDD31mvE2boqc5DJeS4jN4dO3qJ6Odd54fZ1kOrF27lj179vDqq6/yxhtv8OOPP9KkSRMuueQSLr300oQfLSOJSwGUJKzZs2cze/ZsAKpXr06tWrU47rjj6Ny5MxdffDFdunTJd0xKSgqzZs3ivvvuIz09nRkzZnDYYYfRvXt30tPT2b59e8QACny61Hr16jFlyhTGjx/Pvn37AB9AAYwYMYIWLVrw4IMPsmTJEhYvXkzbtm154oknGDZsGC1atCihd0JEpOQsXAi33uqnygR+7eWTnOynwFx/vV8U9yBzB0gse/fChAmQnu57mdavh+zs+I+vUQPatIFTT/VzlwJD3Muj4NqKo0ePZvTo0WXcGpFcpnkZJcvM1jVt2rTpunXrYtbbt28fy5cvB+DII488kLmtJAXbtHTpUnr37n1g//Tp02nTpk3ERWHl0FIW152IlH+7d8M//uGH6MXKf3PCCXDllX6Y3mGHlV77KpQtW+DllyEjw080CyzPEZe6daF7dzjpJD9/qWfPcjscT6Q0NWvWjPXr1693zhXpZlf/I6rAomWvCQZTCq5FRCqWGTPgjjt8x0a0EWA1a8IVV/jt2GNLt30VwpYtft7Sxx/7be7c+BM+VKoEaWn+wzn3XJ+5I2wheRE5eAqgREREKrDMTLjtNp8UIkbGaOrV8zkFxozxQZQUA+fgo4/8/KWPPvKJHtavj//4mjXh6KP9gloDB/qvRaTEVegAysyOAG4B+gBHAAZsAD4CHnHOfVWGzStxWoBORKTimj8fnnwSnn8+evrx5GSfEOLee/1IMDlI+/f7oXhvvukz461bF3+yB4AGDaBDBzj7bB8w1alTcm0VkagqbABlZicA7wM1gfXAe0A20B64DPijmf3ROfd22bWyZGmOk4hIxbJ9u+/seOopWLAger1mzfx6TTffDIFl8KQosrLgjTd80ocvv/QZ8uIdHt+0qU9j2KMHtG4NvXqVytpLIlKwChtAAU/jg6engeucc/sAzCwJuBO4HXjazDKcc7vLrpkiIiJF5xy89BI89BCsWgU7d0auV7ky9O0L99+vkWBFlpXle5Y++shvn3wS//ylypWhVSu48UY47TSf1lDzl0TKpQoZQJlZPaBd4Nvbg8ETgHMux8zGADcBtYGjgRj/pxMRESl/fvzR9yBNmBB9zaYaNeDCC302vauugqSk0m1jwvvpJ3jhBZg0yQdPixdHz/UerkYNH6n27QuDB/vgSUQSQoUMoIA9hahbiHyhRWch/2VS9jspLaHXmuk/nSKHhFdf9SnIv/suep0uXeDqq+GSS/x9vMRp9Wo/aWzKFFiyJHp3XiR16kC7dtC/P1x2mZ/PJCIJqUIGUM65HWb2MdAD+IeZhQ/htGgOfwAAIABJREFUGwNUBaY450ol00JycjJmhnOOPXv2kKpB51IKdgX+LZ2UlERycnIZt0ZEiuqnn+CWW/zaqllZ0esdcwyMGwedO5da0xLb0qU+YHrvPf91tK68cHXrwimn+K1BAzjvPKhevWTbKiKlpkIGUAFXAZOBq4GzzGwuPolEB6Ap8DJwXTwnMrNYq+Q2ivMcVKtWjZ07d7J9+3ZqKkeslLCcnBwyMzMBqFGjhnqgRBJQejqMHu07Q6KpVg0uuAAefBAaNiy9tiWkTZv83KUPP4RXXvE53uNhBkccAX/5i1+s9phjNB5S5BBWYQMo59xSM+uGD5ROxwdNQUuAWc65baXZpho1arBz5062bt1KcnIytWrVUq+AFDvnHLt27SIzM/NAD1QtrUwvkjB27vSJ3Z56yid2i+boo+H22+GPfyy9tiWcxYt9D9OOHT7hQ6xINFRSkk9VeNJJ8Ic/QL9+Pue7iFQIFTaAMrOTgHeA/cAfgQ+AvcBJwCPAc2Z2knPuioLO5ZyLmg880DvVNFp5qDp16rBz50527NjBli1b2LJlSzyHiRyUhg0bUkOTIETKvblz/b3+K6/4dOSRVK0Kv/+9721q0qR025cQvvsOnnnGD8n7/nvYuze+41JSfFa8Hj38+kunnqoeJpEKrEIGUGZWG5gA1Ae6Oec+DymeZGZLgEXAEDN7xTk3s5TaRdOmTdmyZQuZmZnsjzf1qUghJSUlUaNGDWrVqqXgSaQc27YNbr01dtBUqRK0bAm33QaDBpVu+8q9FSt8wDRlip/DtDvOVUlatPC9S9Wq+Qx5J56olOIickCFDKCAs4AGwA9hwRMAzrkVZvY5cCrQGyiVAAr8jW39+vWpV68eOTk55BRmhXKROJjZgaQlIlI+ffKJTwoxZ070dVc7dIChQ/0QPU2bDdi2DT7+GO6+G77+Ov6kDzVrwsUX+/lLPXvC4YeXbDtFJKFV1ADqiMBjrDlOWwOPdUu4LREFb3I1B0pEpGLYv98vYvuvf8HPP0euU6mSz4A9bBh06qROEX75BebPhw8+gJkz/TjH7OyCj0tJ8d12p50Gl1/u87qLiMSpogZQ6wOPbc2slnNua2ihmVUCOga+XVmqLRMRkQpl2TK48UaYOtUHUZGkpvrlg8aO9VNxKqxt2/xEsHfegYULo49rDJecDGlp8LvfwZAhfkieiEgRlUgAZWYpQFugIVAHyAR+Br51zsXxr6ESNwXYCVQHnjGzIc65HQBmlopPInEEsA8YX2atFBGRQ9aXX/repFgL3jZt6oOrESMqaM6C3bvhtdfgzTd971K8yZUaNPArBPfs6XuYevRQd52IFJtiC6DMrBowCDgXOBmoFqFalpl9gk/g8IpzLsZyfyXHObfJzIYBLwAXAr3M7Et8wNQZnzUvB7jBObeiLNooIiKHnqwsHws8+aSPByJJSvL3+2PH+mF6FUpODkyaBC++CLNnRx/LGK5BA+jVy/cwnXoqHHWUAiYRKTEHHUAFMtrdDlwBHAYY4ICfgF/w84xqAfXwi8r2xa+79ICZPQvc45z79WDbUVjOuVfMbBEwAjgFOC3Q9g3Aq8BjzrkvSrtdIiJy6JkxAyZM8J0p0dZmrV3bjy67+26f/K3CWLsWpk/324wZ8QVNZtCokc+UN2QI9O1bQbvoRKQsHFQAFejFuRsfHG0CHgPeBz5zzuX7E2FmdYHuQB/gD8BNwP+zd+dxWk/9H8dfZ6adtC9qolRSoizdUSGkm2iTVAoRldLqtsRdKkq3tcUtuZUKFYoWCUUS0kb9RFnSNm20l/a5zu+PM+Oaa+aa7bq+1zXb+/l4zGPme77nOufj9/jdzGfOOZ/T1Rjzb2vthHBiCYW1di1wT7TnFRGRvO/UKRgxAv77X9izJ3ifs86Ciy5yFfdatYpufNnm999h/Hj48ks4cMDdx5QZZctCw4bu4tr27d3BMBGRbGBsWvVRM/NhY3y4+5KGAXOttZm+uCjxnFRr4EngQmttniw3Z4yJr1y5cuX4+PjsDkVERKJgyxZ3Zmn+fJdEBXPxxdC7tytBnuevYtu/393F9MEHrrT40Uzu3i9RAi691CVLd96ZD/4PJSLREhcXx/bt27dba+NC+Xy4W/juBKbZELKwxGRrljHmfeCOMOMQERHJVvPnu0tv161Lu0+LFu7C2yuvzMNHdE6fhlmzYOpUWL7clRrPjPr1oVkzaNTIfVWoENk4RURCFFYCZa19O9wAEpOvsMcRERGJttOnYfhwVxQirTwhJsbVNRg9GurWjW58UbN5syv+8Nxz7kxTZv6uWqAANGniLrW67jpXCEJEJBfIr/dAiYiIhOzAAZcQjRiR9t1NZ53l6huMHAlFi0Y3vog7eBCWLIFPP4VPPoHffsv4M8ZAXJyrlnfffSotLiK5lhIoERGRTPrpJ3j5Zbc77a+/gvepUQOGDXPnm/KM06dhxgx4801YscIlUJlZZSpd2l1ae+edcNttbtVJRCSX8/zfZInFIdrjyoJXAoqk0dVaa6/3en4REREvnToFzz4LX3zhKm0HExPjju+MHg21a0c1vMhZtcpVy/vsM9i6NeOEyRiXPZYuDbfeCvffD6VKRSdWEZEo8jSBMsaUAz4FLsbdqZSe0Mv/iYiIRNi2bdC3rzvak9Y2vSuvdAssTz+dB+5u2rcPXn3VFYD48Uc4cSLjz1Sp4u5gat4crr/eJU8iInmc1ytQzwL1gN+A8cCvwGGP5xAREYmYL7+Efv1gzZrg7wsXhs6d4cEH4ZJLohubp6yFn392Z5jmzoXPP8/c58qWdcUfevd2SZPOMYlIPuN1AnULsBu4wlq7z+OxRUREIsLnc4svI0bAjh3B+8TGwtChrmhc2bJRDc878fHuLNPPP7sCEFu3ZvyZokXdxVW33ea25ZUoEfk4RURyMK8TqKLAx0qeREQkNzh6FB59FCZNSvt+1+LFXdG4ESNyYTU9nw/efx8mToRly1zxh4zExEDVqm5rXq9eebj2uohIaLxOoH7FJVEiIiI51v798Pjj8L//QUJC8D7nnuuq6d19d3RjC9uWLa5U4Ny5rry4z5d+/wIFoHFjuPxyaNDArTTFxkYnVhGRXMjrBGoi8B9jTJy1Nt7jsUVERMLy668wZgy88UbwFSdj4B//gHHjXC6RKyQkwMyZ7h9q2TI4dCjjz5QrB7ff7laZmjZ1y2wiIpIpniZQ1tqXjTFXAZ8bY/oAC621GfzpS0REJHJ8PnjnHZg+3VXUC1aNu2BBaNsWxo6FChWiH2OWHT7syot/9BHMn5/2wa3kypZ1l9f27Ak33KDiDyIiIYrEjXY9gCXAR8BpY8xOIFgSZa211SMwv4iICEeOwL/+5S69PXYseJ+GDV0u8eSTOfyOV5/PJUuzZ8OmTbB0qbugKj0FC7pLqdq1c2eZcm3lCxGRnMXre6CqAEuBKrh7oAoC56TRXfdAiYiI57ZsgQcecNW5gx3/KVQIOnWC/v2hfv3ox5dp+/e7vYQzZ8L69WlfRpVcuXJw9dVulalZs8jHKCKSD3n997b/4BKmr4AXcUUljng8h4iISCorVriFltWrg78vUAAGDXJ9KlaMbmyZtmoVjB4NixbB7t0Z969aFVq0cElTs2ZQpkzEQxQRye+8TqCaAVuAG6y1mbjCXEREJDyzZsEjj8Dvvwd/X6gQtG/vikfkuPzi9GmYMgUmT3aZX1p7DZOrXdvVVW/RAmrV0lkmEZEoi8Q9UIuVPImISCRZC+PHu7NLe/YE71OyJPTtC4MH57DzTX/9BQsXwrx5rqrFH3+k3z8mBmrWhDZtoF8/OPvs6MQpIiJBef2flJ+A0h6PKSIiArgFm/feg+efh+++C94nLg6efjqH3d/01Vfw9tuweTMsXgwnMvg74xlnuAoX993nyo3rXiYRkRzD6wRqHDDJGFPXWrvO47FFRCSfOnIEJk6El15yRSKCuegit03v2mujG1tQp07Bm2/CpElua97x4xl/plIluPFGGDAA6taNfIwiIhISr++BessYUwd3D9RgYIG1dquXc4iISP6xbp0rKLdiRfCq3cWLw+WXu+18tWpFP74Ae/e6DO+99+C334KXAEyualVo2dIVf7j2Wl1mKyKSS3hdxjwh2eMriW1pdbfW2py0K11ERHKIzz+HPn3gp5+Cv69RAx56yG3TK1o0urEF2LDB7Sf86CPYuTPj/lWrQo8eLnGqU0cFIEREciGvE5is/JdA/9UQEZEAM2e6xGhrGnsXrrgCHn4YWrfOxmNBGze6C21nz3ZnmzISFwc33wwDB8L550c+PhERiSivt/DFeDmeiIjkD6+8AsOGpV2QrkIFV02vV69sWLRJSHCZ3Q8/wJw5bl9hemJj3epSp07w4IPamiciksdoC52IiGQLn89Vy3vhBTh0KHif6tXhxRehVavoxsaRIzBuHLz1ltuml9F5pqJFXdW8nj3dpVMx+nuiiEhepQRKRESiKmlBZ+BA2LEjeJ/69d2q1JVXRjGwnTvdeab333flxtMTGwtNm7qqeY0auS8REckXvC4icSVwP/C6tfabNPo0BroBr1prV3g5v4iI5FwnTsCUKfDss+4YUTBNmsBrr0Ht2lEK6rffYNQod6Ht7t3p9y1QwF1m26YNtGgBpUpFJ0YREclRvF6B6g50Ah5Jp88vQGfgNKAESkQkj9u5E0aMcAs7wQrVxcS4hZwJE1y9hYjbsQM++MAduvrzz/T7xsS4+uidO0PfvjrPJCIinidQjYA11to9aXWw1v5pjPkeuMrjuUVEJAfZtAm6dYMvvgBrU78/7zzo3RvuvRdKloxwMJs3uwxu1ixYtix4QEkKFnR7CO+7zwVXQLvdRUTEz+v/KlQGvs9Evy3AjR7PLSIiOcCGDS7vWLYs+PuLL4bHHnO1FiKam8yf7y62/eYbOHYs/b5Fi7oDV337uooVup9JRETS4PV/unxAoUz0KxiBuUVEJBv98INLnFatCv6+dGmYOtUdH4pIfuLzua15Y8fC8uXu0FV6rrgCypaFf/0LrrkmAgGJiEhe5HUSsxm40hhTwFp7OlgHY0wB4ErcKpSIiORyq1a53W5r1wZ/X7o0DBniFnc8T5x8PpgxA/77X1i5Ek6dSrtvTIyrnNeunSsEUamSx8GIiEh+4HUC9QkwEBgK/DuNPk8C5YHpHs8tIiJRtGwZ3H8//Phj8Pfly8Mzz7hVKU9ZC+++C6NHu+ztdNC/1wUG0ro1jBzpVpxERETC4HUC9RKuRPkgY8yFwP+ADYnvLsCVOG8FHAZe9HhuERGJgqTK35MnuzudUqpUyZUq79zZw0mtdUtc777rvtKqg548iDZt3GGrKlU8DERERPI7TxMoa+0OY0x7YBbQGpcsJWdwyVN7a228l3OLiEhkbdjgypFPm+Z2zqVUpYqr2dCunUcT+nzw3nvuPNP8+fDLL+n3r1LFTf7YY1ChgkdBiIiIBPK8kIO19jNjTF3gIeCfwLmJr7YCHwMvWmu3eT2viIhExocfwhNPuCIRKat/x8TAOefAuHFwyy0eTGYtzJkDL7zgEqf0zjQZ45KmDh3g0UehTBkPAhAREUlfRCrhJa4uDYjE2CIiEh0ffQS9esGWICV/ChSAu+6CQYOgRg0PJvvkE7fv7+uv06+eV6wYtGwJt98OzZvDmWd6MLmIiEjmqZS4iIgE+PRT6NnTXYSbUqFCrijEo49C1aphTvTVV25P4JIlGd/T1Lq1O1TVogWccUaYE4uIiIROCZSIiADw+efQvXva9Rkuugjmzg0zcdq921XDe+MNOHw4/b6VK7uVpkGDoFy5MCYVERHxTlgJlDFmDjDIWvtTGGPUBUZaa1MWnBARkShYutTd45RWjYa6dWHSJGjQIMQJDh1yF9xOmwaLFgWvQJGkQgVXCOKJJ3RPk4iI5EjhrkBdB6w1xswEJlprF2XmQ8YYAzQH7gPaAkfDjENERLJo5Up3jmnDhuDva9eGiRPhyitDGHzvXrc9b9ky+P779M81lSnjtuj9+99QrVoIk4mIiERPuAnU+cDzQCfgdmPMDuBzYBmwHtgLHALOAsoAdYArcYnX2biy5tOAR8KMI0uMMVWBILv7g7rGWvtl5KIREYmubdvcLrqJE4MXuTv/fPeuSZMsDnzyJLz4Irz+esb3NNWsCZdeCoMHw4UXZnEiERGR7BNWAmWt3Ql0NsaMBvoD7YA7gS7pfMwAp4DpwGhr7apwYgjREWBKOu/rAA1wd1atjkpEIiIRtnOnWxT63/9crpNSjRruXdOmWRjU54O33oLRo91Ft+ltz6tfH+64w5UdP+ecrIYvIiKSI3hSRMJauxKXSA0AWuBWmC4BKgAlgAPAH8B3wGLgI2vtH17MHQpr7R6ga1rvjTEfJf44w1r7V1SCEhGJkF9+ga5dYc2a1MXuYmLcrrlXX4VmzbIw6JIlMHy4O0CV3l1NBQtCx47ucts6dUIJX0REJEfxtApfYlI0OfErVzLGVMZdAAwwMTtjEZG8Lz4+nhMnTvDWW2/xzjvvsGPHDipVqkSHDh3o0qUL1atXD3nsHTugSxdYvDj1O2PcYtDgwVCrViYH3L/fVZMYPtwVhkhLTAzUqwf9+7sAYmJCil9ERCQnMjbltfL5nDHmCeBp4EdrbV0PxouvXLly5fj4+PCDE5E8x9XUSdvx48cpXLhwlsY8cADuvhvmzYNg/4q//XYYOtQVicjQqVOwYAG8+aarYR5s71+S6tVdOb8BAyCLMYuIiERLXFwc27dv326tjQvl87oHKrWuid+1+iQi2W7ChAn07ds3U32PHnUX4E6bBgkJqd+XL+/yoObNMxjI53P3NE2Y4G7T3bMn7b4VKkCnTq6CXpkymYpTREQkN9O+imSMMdcANYCTwJtZ+Fx8Wl9AxUjFKyK5X+0MloEmTsz4bzmnT0OfPlCypEuQUiZPJUrA+PHuDtt0k6dvv4V//hOKFHErSStXBk+e6teH226Dn36CXbvgpZeUPImISL6hFahA9yZ+n5tYaEJEJKJ27tyZ7vtt27al+c7nc1vxnnsOjh9P/b5YMbcw9Oij6RxD2r0bhgyBmTNh3760AznnHLjzTveV6UNTIiIieY8SqETGmLOA2xIfJ2Xls+ntn0xchaocRmgikoedffbZHDhwIM33VapUCdr+xReusN3y5anfFSoE/frBqFFpJE4+nyu7N3o0/Ppr+gHWr+/6XXWVikGIiIigBCq5jkAxIB74JJtjEZF8Yv369em+79atW8Dz//2fS5wWLEjdNzYW7r0XXn7ZJVGpxMe7vX7z56dferxcOVeib8gQKF06E/8UIiIi+YcSKL+k7XuTrbXp3AQpIhI9PXr0AOCbb+CFF+CDD1JX1itcGFq1gokToXjxFAOcOOGq502aBJ9+mvZFt4ULww03wFNPuVUnERERCUoJFGCMqQM0BCzwRjaHIyL5yLZt2zhx4gRvv/02M2bM+PseqI4dO9K5c2fi4wvTsSOsWpX6syVLwqBB8OCD7rzT36yF6dNh4UKXPKV1tskYuOgieOQRt+KUQUl1ERER8fgeKGPM78Av1tobPRs0CowxLwADgc+ttdd7PLbugRKRLNu/391Bu2BB8BWnPn1c8hSww27jRre/b/58OHYs+MAxMVCtGrRu7bbolSgRsX8GERGRnCin3QNVAfjW4zEjyhhTEOiS+Ki7n0QkW508Cb17u2uYgt3ldOmlbhvfOeckNiQkuCIP48bBli1pD1yjhjsgddddUFl1bURERELldQK1BTjL4zEj7RagPHAAeD+bYxGRfMrng6efhmeeCV6SvFw5d5dTu3aJDWvXuvrkn33mLoJKS8uWbote48baoiciIuIBrxOomUB/Y0w5a+2fHo8dKUnFI6ZZa4P82iIiEllTp7qy48GqmRcr5hKrAQNwy1PDR7kS5OndH1W8OLRvDyNHQoUKEYtbREQkP/I6gXoG+CfwqTGmt7X2G4/H95y1tmV2xyAi+dPWrS7PWbEi9bsCBaBXL1d5r8Du7fD0Gy5x2r49+GDGwOWXu5t1W7SIaNwiIiL5mdcJ1HwgAagHLDXG/AFsBoKdZrZeF2wQEckNDh92l9y++GLq7XrGuG16b7yewJlffQztXnNFIYIdiAIoUwbuuQeefBLOPDPywYuIiORzXidQTZP9bHBFJdLaP+Jd+T8RkVwgIcFdxzR4MOzenfp9kybw3mOrqPjCI1D+a7dlL5iYGHemaeRI9yERERGJGq8TqGs9Hk9EJE8YNcrlO4cPp353R4cERpV7niqzxsAtaZxtMsZtzevWzX0vXDiyAYuIiEhQniZQ1tolXo4nIpLbzZvncp4/g5TV6dhgI+OLDKDk+x/DqVPBB6hcGe67z5Ug/7t2uYiIiGQXr1egREQE2LDBFYhYty7lG8u/yk7hyQJPc8bKjaRZWLx8eejRw112W0D/qhYREckpIvJfZWOMAW4CGgHlgOXW2kmJ78oBpYCN1to0TkWLiOROhw5Bp07w0UeB7YU5zn94lB6xr1Nkz9HgH46JgSuvhGefhUaNIh+siIiIZJnnCZQxph7wDlATV0jCAgWBSYldbgDeBNoA87yeX0QkO/h88MQT8PzzgffaVuN3evIq3WMnUTJhr6tTmlKJEtC1K4wYAWecEa2QRUREJASeJlDGmDhgEVAG+Aj4Ang2RbfZwCmgNUqgRCQPmDvXVRLft889GxJoxyy6MoWbWEAMNnjidPHF8NRT0KpVVOMVERGR0Hm9AvU4Lnnqb60dC2CMCUigrLVHjTFrgQYezy0iElUHDrjrl8aOdc8V2MlY+tGaORQmjRLklSrBtde6paqKFaMXrIiIiHjC6wTqRmBDUvKUjs2o5LmI5FIJCTBxotuyt2cPXMdnPMe/uIQ1wYtCFCjgbsft1QuuusqVJBcREZFcyesEqhIwJxP9LHCWx3OLiETcF1/AwIGw5vsEHuFZBjCaCvwRvHPx4vDww3D//VptEhERySO8TqD+wlXdy0g1YJ/Hc4uIRMzKla4s+aEtexlDP9rzHkXS2qZ35plw993u9twzz4xuoCIiIhJRXidQPwCXGWPKWmv3BOtgjDkXqAcs9HhuERHPHTjgEqf1i+J5mzu4iq9cUYhgqlZ1h6K6do1miCIiIhJFMR6P9xZQHHjdGFMs5UtjTCHgFVxZ87c8nltExFNDh8KNZVdx76JObKYq17A0dfIUEwPXXANr18KmTUqeRERE8jivV6DeADoDrYANxpiPE9vrGWPGJrafAyyy1r7j8dwiIp746ovTTGw7j7sPjGEoS4J3KloU7rwTnnsOztKRThERkfzC0wTKWptgjGkJTAA6Avclvrok8QtgFnCPl/OKiHjh0OZ9rLiyL1fteo8mQc43+UwMMRfUggcegN693eqTiIiI5Cter0BhrT0CdDbGPAW0AM7DbRXcBiyw1q7xek4RkbCsX8+Wmx+gyqYvaRbkfNOxAmdSqHd3Yvv3ceecREREJN/yPIFKYq3dAGyI1PgiImH77DNO9upHwV9+5Nwgrw/ElObUQ49R7vH7oWTJqIcnIiIiOY+n+0+MMZOMMfdmol9XY8wkL+cWEcm0yZOxcXHYZs0o9MuPqS6/PUZR1l/Tk5IHt1Du2YeVPImIiMjfvN7A3xVokol+jYG7PZ5bRCRtPh888wyUKgX33IPZvj1V4vQH5Zhy8fPEHjtC7S/G6w4nERERSSW7TkDHAr5smltE8pOEBHjvPbj8cnj8cXexUzIW+I3zGHvNTOyuP7h77UMUKqLiECIiIhJcdv2WUBM4mE1zi0h+cPIkTJwIderA7bfD998HvLbASi6jS/Vv2bV0I32/aEeFCtkTqoiIiOQeYReRMMYMSdFUP0hb8vkuBBoBi8KdW0Qkld274f77Yfly+OOPVK9PUYDFXMsDMa/R54WqTHkQCkSsnI6IiIjkNV782jAU98fcpOME9RO/0vMXMNyDuUVEnE2b4L77YPFisKlLkW+iKs/xMG/QldKVijF7NjRokA1xioiISK7mRQI1HH8CNQRYA8xJo+9JIB74xFqb+k/DIiJZtX49dOsGy5YFfb2OCxnFY7xDB2xsQR59FEaMiHKMIiIikmeEnUBZa4cm/Zy4dW+NtXZYuOOKiKTr//4P7r0XVq8O+vowZzKYpxhLXywx1K8P8+dDpUpRjlNERETyFE93/ltrVbpKRCJr5Up3xmnt2qCv91KKpxjMGPoBMRQtCq++CnfdFd0wRUREJG+K6NFpY0wNoByw11r7SyTnEpE8bts2aNEC1q0L+noXFXicEbxBt7/bWrWCd96BIkWiFaSIiIjkdZ6vGBljYo0x/zbG7AJ+Br4CHkv2vrMx5htjzIVezy0iedDWrdCrF9SoETR52kElOjKNs9n1d/JUvjwsXQpz5ih5EhEREW95mkAZY2KBD4FhQClgPf7qfEm+Bq4AbvVybhHJY7ZsgZ49XeI0fry71ymRBXYWrEJbZlGZ7bxDJwAqVoSxY2HnTmjSJJviFhERkTzN6xWonsA/gcVANWtt3ZQdrLWbgY1Ac4/nFpG8YM0aqFcPqleHCRPg1Km/X1lj+LlEA27mQyqd2srsZH+Huece+Okn6NMHYnQaU0RERCLE6zNQdwP7gPbW2v3p9FsP1PN4bhHJzdavd5UeVq1K/S4mhq2NO9Fm5RN8f7B2wKtzz4X//Q9uuCFKcYqIiEi+5nUCdQHwVQbJE8BBoLzHc4tIbvT773DnnfDNN6nfGcOpDl2457cneHtprVSvL7kEliyB4sWjEKeIiIgI3idQscCJTPQ7O5P9RCSv2rkTunSBzz8P/j4ujoVt/0vL11pxIsW/LQoVgtGj4YEHIh+miIiISHJenxTYAlycXgdjTEGgLvCrx3OLSG5w4AC0bQuVKwdPnipW5K9JM7ii8jaaj0udPDVqBLt3K3kSERGR7OF1AvUxUNUY0z1gnTpsAAAgAElEQVSdPn1wd0PN93huEcnJTp92VfXKloXZs8HawPdly8Lkybz13E7KPNCB5csDXxcpAm+/DV9/DSVLRi9sERERkeS8TqCew51vesUYM9oY0yix/QxjzKXGmFHAKGAP8LLHc4tITmQtfPAB1K3rquolJAS+P+ss+O9/ObXjTwb/djd33kmqVadmzWDvXrjjjuiFLSIiIhKMpwmUtXYn0AY4APQFluKubLkNWAk8AhwB2llr93g5t4jkQF99BY0bw623ws8/B74rWhSeegr27+eHq3rRsCE8/XRgl2LFXO61cKH7WURERCS7eV1EAmvtl8aYC4EBQAvgPFyitg1YADxnrd3u9bwikoN88AEMGQLr1qV+FxcH7dvDc89x2sby3H/gyScDrnvCGLjmGpg/X4mTiIiI5CyeJ1AA1trdwGOJXyKSX6xe7fbZ/fJL6ncVK8KwYXDvvVCgAAsWQI8esG1bYLe6dWHyZLjssqhELCIiIpIlEUmgRCSf2b4dOnRwFR5SKl4cHn0U+veHM87g9Glo39bVkUguJsZ1e/JJKFw4OmGLiIiIZFW+T6CMMYWAnsDtQB2gGK7IxQ/AZGvtO9kYnkjOduIEdOsG06eDz5f6/WWXuX14FSoAsHw53Hijq2SeXI0a8NZb0LBhFGIWERERCYPnCZQxpgTQC7geqAQUSaOrtdZW93r+rDDGxAGf4BKnPcDXwF9AFeDqxJ+VQIkEM3IkDB+eumQewLnnwtSpcPXVfzf16wdjx6buesklrkhEmTIRjFVERETEI54mUMaY84AluMTJZNDdZvA+oowxRYGFwAXAUGCktfZUsvfFgPOzJzqRHGzOHLjvPtgTpJBmyZIwZgzcddffTVu2QNOmsHlzYNfYWHjhBZdYiYiIiOQWXq9APQdUBr4BXgB+BQ57PIdXBuGSp9estcNSvrTWHgXWRD0qkZxq714YONCtLKVUsCA88ohbkYrx344wbhwMGJD66qfq1WHxYqhSJcIxi4iIiHjM6wTqOmAr0Mxae9zjsT1jjCkIPJD4+Fx2xiKS4508Ca+84iropTy8ZIy742nq1IB640eOQPPmsGxZ6u4DBriVJxEREZHcyOsEKhZYnpOTp0SXAmWBHdba34wxFwG34rYe7sddALzAWhvkVLxIPvLxx26PXbCy5JddBu+9B9WqBTSvXw/NmsGOHYHdS5eGTz6Byy+PYLwiIiIiEeZ1ArUOKO3xmJFwceL3eGPMKOARAs9sPQp8b4xpY63dmtFgxpj4dF5XDD1MkWzy5ZfQsSPs3Jn6XcuWMHQoXHppQLO1MH48PPQQHE/xJ5TWrWHmTCiQ7+t+ioiISG4Xk3GXLHkZuNoYU9fjcb2WVO/rElyy9ApQCygB3AD8kvhufuJ2P5H8Yc8eVznvmmtSJ08XXeTK5c2dmyp52rcP2raF3r0Dk6eiRV3iNHu2kicRERHJGzxNoKy104AxwOfGmB7GmHO8HN9DSatNBYHp1toHrbW/WGsPWWsX4ZKo40BdoGNGg1lr49L6AnZF7J9CxCs+Hzz8MFSsCEuXBr4rUsSdgfr+e7c3L4Vx41xuNWdOYPtDD7m6E+3aRTBuERERkSiLxN+EXwVuxK3qYEya1cyttTa7/iadvDLghJQvrbVbjTHzgXZAM+DNaAUmEnWffAKdO7tsJ6XateH99+GCC1K9OnnSFYpYsiSwvWJFePPNoLmWiIiISK7n9T1QdXH3QJUk43ugMnofSb+n8XOwPmdHOBaR7LFnjzuc9M03qd8VL+4ONHXuHPSjK1fCDTfAwYOB7TfdBJMnQ/ny3ocrIiIikhN4fQbqGaAUMBNX6a64tTYmrS+P586K7/Bf5Fs2jT5J7UciH45IlA0dCmefnTp5iomB7t1h//40k6d//xsaNkydPLVpAx9+qORJRERE8javt9A1Bn4GOlprbUads4u1dpcx5ivgKtwWve+Tv08sHHFN4uOKKIcnEjnx8XDbbbB8eep39eq5g0znnhv0owcPutoSa9cGthcsCBMnwp13RiBeERERkRzG61WgGGBNTk6ekhmW+H2QMeaKpEZjTAHgBeA83FmpN7IhNhFvJSTA2LHuTFPK5OnMM2HGDFizJs3kaeFCt2CVMnmqWhU2b1byJCIiIvmH1wnU90Blj8eMCGvtZ8Bg3JbDpcaYr40xs4BfgT7AMaCTtXZ3NoYpEr7Vq92eu3794EiyHanGuMxn3z7o0CHNjw8Y4IpFHDsW2H7//fD771CpUoTiFhEREcmBvN7C9yzwoTGmqbX2C4/H9py19mljzAqgP9AQaIArOz4Z+I+1dkM2hicSnl274JZbXPlxny/w3Z13wrBhUK1amh8/edLlXWvWBLYXLQqzZrmCESIiIiL5jdcJ1I/Af4CPjDFjgAXAVsAXrLO1dqvH82eZtfZT4NPsjkPEU8OHu6+EhMD2mjXh1VfhuuvS/fiWLXD77amTp7p14auvoEQJj+MVERERySW8TqA246rbGeCRxK+02AjML5K//fIL3HgjbNoU2F6gADzxBDz2mLsYNx3z58Ndd7mdfcn16wejR3scr4iIiEgu43UCsxV/eXARiRafzx1WGjcOUtZwKVECpk/PcM/d6dMwZAg880xge+3a8OKLLi8TERERye88TaCstVW9HE9EMuG776BFC9gdpN5Jly7uZtvY2HSHWLvW7epLuep0993wyitQrJh34YqIiIjkZtl5ma2IhMPnc5feXnZZ6uSpQgVYsQLefDPD5GncOLj00sDkqUgRd7fT5MlKnkRERESS0xkkkdxo9Wq36vTHH4HtxkDfvm7PXUz6fx/x+aBdO5g9O7C9VClYvNjdqysiIiIigSKaQBljSgBn4YpKpJITqvCJ5CrWwltvQe/ecPhw4LuqVeGTT+D88zMcZs8eaNDAXYKbXOXKsGwZVKniWcQiIiIieYrnW/iMMaWMMeOMMbuAfbjKfJuCfP3u9dwiedqff7olo7vuCkyeYmJg0CBXeS8TydOXX7oEKWXydMstsHWrkicRERGR9HiaQCWuOH0L9AJKA8dwq0+7krokft8KbPNybpE8bfZsdwnTBx8Etl9yCfz8M4wcmalhnnkGmjaF48f9bcbACy/AvHkZ7voTERERyfe8/nXpYaAmMBUoAcwErLW2MlAceAA4ACyx1lbzeG6RvGfrVqheHdq2DTzvVK6cS6q++w5q1MhwGJ/PVTF//PHAKufFisE338DAgRGIXURERCQP8jqBagXsAR6w1h4j2Z1Q1tqj1toJwM1AF2NMd4/nFslbxoyB886D31Psdm3bFtatg9atMzXM4cMuB/v448D2GjUgPh6uuMKjeEVERETyAa8TqPOA1dbapA1CFsAY83cdZWvtt8AyoJvHc4vkDX/95bKa/v0hIcHfHhvr6orPmgXly2dqqI0b3VApzzt16OB2/pUq5VnUIiIiIvlCJE487E/289HE7yl/TdsKXBCBuUVyt08+ccnR8uWB7aVKwddfu5ttTdCilqksXgz/+Af89JO/LSbGXYw7Y4bOO4mIiIiEwutfoXYAlZM9J5UpvzhFv/OA0x7PLZJ7+XwuObrxRjh6NPBdmzbu/FPDhpke7tVXoXnzwMtxGzWCNWvggQc8illEREQkH/L6HqgfgMbJnpfiKu8NM8astNYeNsZ0ARoCX3s8t0jutGkTXHUVbN8e2F64MEybBrfemumhjh51W/Z++CGw/Z57YPx4N6SIiIiIhM7rFaiPgfLGmGsBrLXLcIlSY2CfMWYvMAV3NupZj+cWyX0mTICaNVMnT/Xqwc6dWUqeNm6EuLjA5CkmBl58ESZOVPIkIiIi4gWvE6jpwFXAL8nabgU+TPy5FK6M+UBr7TyP5xbJPRISYPhw6NkzsFCEMTBsmNtrl4UKD/PnQ+3asD/ZCcTYWPjwQxgwINPHpkREREQkA55u4bPWHiHF1jxr7Z9AK2NMMdzdULuttT4v5xXJVf74Azp3hkWLAtvLlHGVHy66KEvDPf00DB4c2FawoLtz96abwoxVRERERAJ4fQYqTdbao/ir8onkT0uXuhriO3f622JjXcWHuXOhQOb/J2kttG/vqponV6oUrFzp7n4SEREREW9FLYESyddOnXLZzocfBm7Zq1YN3n0XLr88S8OdPOlKlK9dG9het66rgF6smAcxi4iIiEgqYSVQxpi7En/8ILHC3l3pfiAFa+3UcOYXyRU2boQrr4Q//wxsb90a3ngjy7fZ/vEHXHwx7N4d2N6xI0yfHmasIiIiIpKucFegJuMq6n0LHE72nFlKoCRvmzoV7r03cNUpNhaefTak6g5r1kDjxqmviho5EgYN8iBeEREREUlXuAnUVFzCdDDFs4jcfbdLoJKLjXWly7t1y/Jw69a5ohDJk6fYWLcDMAvVzkVEREQkDGElUNbaruk9i+RLhw5Bw4awYUNge5ky8M03cP75WR7y00/dEapDh/xtRYvC11/DJZeEGa+IiIiIZJrX90CJ5G8rV0KlSqmTp2uucZX3QkieXn8dWrQITJ4aNIBNm5Q8iYiIiESbEigRr7z8slt5+uuvwPYnn4QvvnCXM2WBzwe9esH99wceoerbF5YtgwoVwg9ZRERERLLGszLmxhgDtAFuAC4EyuDOQ+0DfgA+tdbO9Wo+kRzDWujSBaZNC2wvUsSVLb/++iwPeeIE1K8fuJAVEwMvveQSKBERERHJHp4kUMaYS4FpQM2kphRdmgAPGGPWA52ttSlurxHJpU6ehN69UydP55zjtvOVL5/lIfftgwsvhF27/G2FC8M777jK5yIiIiKSfcJOoIwx9YElwBmJTd8Dq4E9uC2CZYFLgfpAHeBLY0wTa+0P4c4tkq327oV27WDJksD2Fi1g3jy3ZJRFv//uzjUlP+9kDIwZo+RJREREJCfwYgVqMi55+groaa39KVgnY8yFwKtA48TPXObB3CLZY8MGuOUWd0lukhIl4OGH4YknQhpyxQq4+mq3fS9JbCx88AG0bBlmvCIiIiLiibCKSBhjrgUuBpYD16WVPAFYa38ErgNWAvWNMU3DmVsk24wa5YpFJE+eatWCVatCTp7mzYNGjQKTp8KFXbEIJU8iIiIiOUe4Vfja4gpF/MtaezqjztbaU8BA3BmptmHOLRJ9nTrBoEGBe+yaNXOZTo0aIQ352mtue17ySntnnQXr17ty5SIiIiKSc4SbQF0K7LbWfp3ZDyT23YW28ElucvIkXHYZzJgR2N6zJ3z0EZQqFdKwI0ZAjx6ukF+Ss892dzxVqxZGvCIiIiISEeGegToPCKWi3hqgXphzi0TH3r1w0UXuItzk2reHV15xVR5C8PDD8PzzgW21a8P337vteyIiIiKS84S7AnUWsDeEz+0DSoQ5t0jkrV8PVaumTp6GDYN33w05eZoyBV58MbCtSRNYt07Jk4iIiEhOFm4CVQw4GcLnTgFFw5xbJLI++wzq1YMjR/xtsbHw3nswZEjIw44bB127gs/nb2vVCpYuDanyuYiIiIhEkX5dEwlmyhS44QY4dcrfVqQIfPst3HZbSENaC08/DX37+tuMgZEjYc6cMOMVERERkajw4h6o+saYrP45vr4H84pExogR8O9/B7aVLg1r10JcXEhD+nzQrRtMnuxvK1AA3nwTOnYMPVQRERERiS4vEqh6ZL0ghMGVPxfJWYYNg6FDA9uqV3fJ0xlnhDTk6dNw8cXuOFWSIkVg5ky4+ebQQxURERGR6As3gfoSJUKSV4wZkzp5uvJKdzgpNjakIU+ehAsvhN9+87cVLeoqnzdtGnKkIiIiIpJNwkqgrLVNPYpDJPtYC089BU8+Gdh+660wa1bIw5486cqS//67v80YV0RCyZOIiIhI7uTFFj6R3MtaeOgheOklf1uBAjB1KnTqFPKwx4/DBRfAli3+NmPcPby33x5GvCIiIiKSrZRASf518iQ0agSrV/vbihRxq04tWoQ87PHjUKsWbN3qbzMG3n8f2rQJI14RERERyXb5toy5MWayMcZm8FUku+OUCDlyxBWHSJ48FS8On3wSVvJ09CjUrBmYPMXEwOzZSp5ERERE8gKtQMHXwG9pvEuIZiASJQcPuiWi3bv9bYULw+LFcNllIQ/7119w/vmwY4e/LSYG5s0LKycTERERkRxECRS8bq2dnN1BiPfi4+NTNx48yNnXXEPs3r3+tpgYV1M8zOSpZk3YuTNw2AULoHnzkIcVERERkRxGCZTkWVWqVAl4NkAd4H6gJ1AYXHnyhQvh2mtDnuf0aWjVKjB5io11uwGvvz7kYUVEREQkB8q3Z6Ak/7HAj0B/4BbgRGwsLFkSVvKUkAB33w2ff+5vS8rJlDyJiIiI5D1KoOBaY8wLxpjXjDHPGGPaGmMKZ3dQEr6hKS/FTWYRMKFfP2jcOOTxfT7o3h2mTfO3lS0b9oKWiIiIiORgnm7hM8b8Dvxirb3Ry3Ej7K4gbTuNMfdaaz/OzADGmCCHbf5WMbSwJFzvv/9+uu8nLlpE3xDHthYefBAmTfK3VajgFrRq1QpxUBERERHJ8bxegaoA7PN4zEhZC/QD6gJn4WJvDnwDnA3MNcY0zbboJGxbNm9O9/22bdtCGtfng4YNYfx4f1uZMrBokZInERERkbzO6yISW3DJSI5nrX0pRdNhYKExZhHwAdAaGA3Uz8RYcWm9S1ydqhxGqBKK06cpeegQB9PpkrLIRGZYC02awMqV/raSJV3yVLdu1sMUERERkdzF6xWomcDVxphyHo8bNdZaCzyZ+FjPGJP137Ile/l80K0bAzLo1q1btywPfcMNsGyZ/9kY+OADqJ9hmi0iIiIieYHXCdQzwHrgU2NMI4/Hjqb1yX5Oc3VJcqCkw0lTp9ITaJZGt6uuuooePXpkaegOHeCzzwLbXn4ZmjYNJVARERERyY283sI3H0gA6gFLjTF/AJuBY0H6WmttTi30XCbZz4ezLQrJGmvh4Yf/PpxUGPiwbFkmdO/OxA8/ZNu2bVSpUoVu3brRo0cPChfOfLHFPn3g3XcD255/Hnr18jB+EREREcnxvE6gmib72eAKM1RIo6/1eG4vdUz8fgj4OTsDkSxo2RLmz/c/lyxJ4YUL6Vu/Pn1HjAh52KeecitNyQ0eDA89FPKQIiIiIpJLeZ1A5Yrbb4wx9YFzgI+staeTtccA9wAjE5vGWmtPZUOIklX33x+YPJ1xBixYEPbhpAkTYMiQwLYePWD48LCGFREREZFcytMEylq7xMvxIqgqrtLefmPMd8BuoCSupPk5iX2mA8OyJTrJmqFD4fXXA9ueegquuCKsYWfNggceCGxr0wZefTWsYUVEREQkF/N6BSq3WIsrUX45cAHQGLflcDeukuAb1tqPsi88ybTXX4dhKfLc/v1hQEY1+NK3ZAncfrs7VpWkSRNXcU9ERERE8q+IJFDGGAPcBDQCygHLrbWTEt+VA0oBG621CZGYPyPW2k2QYZVryekWLoTu3QPb2reHl1Je8ZU1f/4Jd9zhqqEnqVPHJVUiIiIikr95nkAZY+oB7wA1cas6FigITErscgPwJtAGmOf1/JJP/PQTtGiReokoZam8LDp6FFq1gh07/G1VqsCaNRDjddF/EREREcl1PP2V0BgTBywCzgcWAI/gkqjkZgOngNZezi35yP790LAhnD7tb6tRI+wlooQEt/L07bf+tkaN4McfoWDBsIYWERERkTzC67+pP467Q6m/tfYWa+3zKTtYa4/iziA18HhuyQ9On4aLL4YjR/xtZcrA2rVhLRFZC337wpw5/rZ69Vwhv+LFw4hXRERERPIUr7fw3QhssNaOzaDfZnJJyXPJYa6+GuLj/c9FirjkqVixsIZt0wbmzvU/V6niqqKfdVZYw4qIiIhIHuP1ClQl4IdM9LOAfjWVrJk8GZYt8z/HxMDixVC5cljD9ukTmDyVKOFWnsIcVkRERETyIK8TqL9wVfcyUg3Y5/Hckpd9/bW7wTa5KVPCvutpzBh4+eXAtv/9Dy68MKxhRURERCSP8jqB+gG4zBhTNq0OxphzgXrAao/nlrxqyxa3x+7kSX/bhAnQpUtYw378cerronr3dpXQRURERESC8TqBegsoDrxujEl1KMUYUwh4BVfW/C2P55a86NgxaNsW9uzxt40Ykfr+pyz6/XdXrjx5FfQbb0y9GiUiIiIikpzXRSTeADoDrYANxpiPE9vrGWPGJrafAyyy1r7j8dyS1/h8cO218P33/rYuXWDQoLCGPXoULr8cTp3yt11wgSsaISIiIiKSHk9XoKy1CUBLYDpQGbgv8dUlwIO45GkWcKuX80oedeutsHy5//nSS+G118CkvFos83w+aNDAXSWVpGRJWL1aF+WKiIiISMa8XoHCWnsE6GyMeQpoAZyHS9S2AQustWu8nlPyoLFjAy9lio2FmTOhaNGwhu3QAX76yf9csCCsWhV2FXQRERERySc8T6CSWGs3ABsiNb7kYatXp67u8PzzUK1aWMOOGOFysOTmzIHq1cMaVkRERETyEU83LRljJhlj7s1Ev67GmElezi15xLFjcN11bq9dkpYtoX//sIb97jsYPDiwbdQouOmmsIYVERERkXzG61MfXYEmmejXGLjb47klL2jaFA4d8j/HxcHs2WENefAgdOoUWHGvQwd49NGwhhURERGRfCi7js3HAr4Me0n+MmQIrFjhfy5UyBWRCKO6g8/nCvf98ou/rVEjmDEjjDhFREREJN/KrgSqJnAwm+aWnOjbb+HppwPbpk+HSpXCGnb4cPjwQ//zNdfAF1+ENaSIiIiI5GNhF5EwxgxJ0VQ/SFvy+S4EGgGLwp1b8ojjx+Gf/wzcY3fPPa6MeRjeew+GDfM/x8XBu++6ynsiIiIiIqHwogrfUMACSZfz1E/8Ss9fwHAP5pa8oHnzwHNP550HEyeGNeSCBe6cU5LCheH996F8+bCGFREREZF8zosEajj+BGoIsAaYk0bfk0A88Im19g8P5pbc7osvYOlS/3PBgvDVV2Fdlrt9O7RpE7ig9cor7gJdEREREZFwhJ1AWWuHJv2cuHVvjbV2WNqfEEl08CDcnaIY4+TJcPbZIQ/p88E//gEnT/rb6taFezMsri8iIiIikjFPL9K11mZXUQrJjfr2ha1b/c+jRsEdd4Q1ZJs2sGOH//mss2DZsrCGFBERERH5mxIeyR4zZ8LUqf7n66+Hhx8Oa8jXXoN58/zPMTHw5Zdw5plhDSsiIiIi8jdPV6CSM8ZcANQCzsJfYCKAtXZqsHbJ4374Abp39z+XLOm27oVx39Ovv0KvXoFto0dDvXohDykiIiIikornCZQx5grgNVy58jS74QpPKIHKb3w+t9q0f7+/bfx4V2M8RKdPQ+PGkJDgb/vnP6FPnzDiFBEREREJwtMEyhhzPrAQOANYBlQAqgEzcJfn1gdigQ+AQ2kMI3lZ9+7w55/+54YNoWPHsIZs2TJwyHLlAi/PFRERERHxitdnoB7FJU+9rLWNgaUA1trO1tp/AJfgypzXBB70eG7J6VavDrzfKSYGpk0La8iXX4aPP/Y/x8a6qugFIrY5VURERETyM68TqGuBjdbaV4O9tNb+CNwCVAee8Hhuycl8PmjRIrDt8cfdpbkh+uMPGDAgsO2//4VatUIeUkREREQkXV4nUGcD65I9JwAYYwolNVhrdwJLgFs9nltysj59XMaTpGpVeOqpkIezFu6/351/SnLLLdCjR+ghioiIiIhkxOsE6hiQ7FdaDid+r5Ci3yGgisdzS07188+uUESSmBj49NOwhpwwAebO9T9fdBHMnh3WkCIiIiIiGfI6gdoOnJPs+bfE71cmNRhjDHApkKwMm+RpN9/sloyS9O8PNWuGPNz69TBwoP+5YkX47DN3/klEREREJJK8TqCWA3WMMUUTn5OO979kjLnZGHMRMB53Bmqlx3NLTvTSS7Bxo/+5YkV47rmQhztxAjp1gmPH/G1TprjKeyIiIiIikeZ1AvURUARXKAJr7UbcnVBnA3NxFfi6AyeBf3s8t+Q0hw/DY48Fts2dG9aFuU2awNq1/ueBA6F585CHExERERHJEk+LPVtr3wcKpmjuDfwKtAdKA+uBkYkV+SQva9sWTp70P7dpAw0ahDzcM8/AqlX+5zp1YOTIMOITEREREckiY5OfTRHPGWPiK1euXDk+Pj67Q4muzZtdPfGkBKpoUdi3D4oUCWm4X36B2rVdNfQk8+a5ynsiIiIiIpkVFxfH9u3bt1tr40L5vKdb+Iwxk4wxz3o5puRS/foFrj69/HLIyRNAs2aBydMddyh5EhEREZHo8/oMVBegmsdjSm4zf35gjfH77oN77w15uAEDYNs2/3OFCvDmm2HEJyIiIiISIq8TqF2A9gTmZ6dOwUMP+Z9Ll3aHl0K0bh2MGeN/NgYWLgyrDoWIiIiISMi8/jV0IdDYGJOykITkF//5j7s4N8nTT0PZsiEN5fPBDTcEXiHVp4+7NFdEREREJDt4nUANBQoD/zPGFPd4bMnpfv0VhgzxP9epA/ffH/JwvXvDrl3+57g4GD06jPhERERERMLkaRlz4B7c5bl3ATcbYxYBm4FjQfpaa+1THs8v2al9+8DloocfhgKh/b/YqlXw6qv+Z2Ng0SL3XUREREQku3idQA3FfwaqDNAhSB8LmMTvSqDyikWLAm+4LV8eunYNaSifD1q0CGx75BFXFV1EREREJDt5nUANJ5cWkUgsv/5w4uNga+3T2RlPrpMyWZo0KeShpkyBP//0P1erBqNGhTyciIiIiIhnPE2grLVDvRwvWowxjYCH8K+OSVZMngzbt/uf69SBm28Oaai9e+HRR/3PBQq4qnsiIiIiIjlBvi8GbYwpBkwGdgJzsjeaXMhaGDgwsG3GjJCHe+ihwNWnt9+G6tVDHk5ERERExFNhJ1DGmAbGmFbGmJqZ6Ht+Yt/Lw53XQ3PbJVIAACAASURBVM8ANYHuwMFsjiX3GTUK9u/3PzdpEnKd8YUL3fa9JC1buroUIiIiIiI5RVgJlDGmLPAZMB44kImP7AdeAT41xpQMZ24vGGOaAn2Aqdbaj7I5nNzH53P3PCUxBqZNC2moffuge3f/c/Hi8MorqronIiIiIjlLuCtQXYAzgSettX9m1DmxzxCgZOJns40x5kxgErAb6J+dseRaQ4bA0aP+51tugSpVQhrqpptg82b/86hR7t4nEREREZGcJNwiEi2Av4ApGXVM5k1gNHAL8HKY84fjeaAa0NZauz+jzukxxsSn87piOGPnWAkJ8MIL/ueYGFdMIgTvvgsrVvifq1aFnj3Dik5EREREJCLCXYGqCyy31p7K7AcS+64AQjso4wFjTHOgBzDDWjs7u+LI1f7zHzh+3P/crh2ULp3lYU6fhm7dAttGj3b5mIiIiIhIThPuClRpYFcIn9sNNAlz7pAYY0oAE4E/ceefwmatTXOzWeLqVGUv5slRLrrIbdfbtg1iY+H110MapkcPOHLE/9y4MbRu7VGMIiIiIiIeC/fv/CeAM0L4XLHEz2aH0UAc8KC1dk82xZCrxcfHs7FOHYZ17UrdihUpWagQda64gmHDhrFx48ZMj7NpE7zxhv85NhbmqJC8iIiIiORgxlob+oeN+RkoYK3N0k09xpiNwGlrba2QJw+RMeYALun7OsjrC4AKwGZgC7DLWtsxzPniK1euXDk+Pr1jUrmLyaA03vHjxylcuHCG41x8Mfzwg//5scfgmWfCjU5EREREJG1xcXFs3759e3q7yNIT7grUN0BVY0yjzH7AGNMYV7zhmzDnDkcB4JogXxUS31dNfL4iO4LL7SZMmJBhn+nTA5OncuVgxIgIBiUiIiIi4oFwE6i3AQO8lni2KF2Jdz+9Blhgephzh8RaW9Jaa4J94a8mODixrWp2xJijLVxI7QsuSLfLxIkT031/+nTgnU/gEioVjhARERGRnC6sX1mttYtwF+nWAVYbY1qZIPu7jNMaWIXbJveFtfbTcOaWbPB//wfNm7Pz55/T7bZt27Z03/fsGVg4okkTuP56LwIUEREREYmscKvwAXTEnSc6H/gAOGCM+Q74I/F9eeBS3OW5BvgN6ODBvBJtzz0HwDnWciCdblXSuUx3587UhSNmq5C8iIiIiOQSYW+astbuBf4BvAX4gFLA9bjEqmPiz6Vw2/beBv6h6ne50JYtbp8dcG8GXbulvNgpmcGDwefzPw8YAGXKeBCfiIiIiEgUhFWFL9VgxlQDbgEuB8olNv8JrAY+tNb+7tlkuUSeqcI3YIC74RY4bgzNL7uMpatWpep21VVXsXDhwqBV+LZtg1q14Ngx91yqFOzZo7NPIiIiIhI94Vbh82IL39+stZuAcV6OKTnA4cOQrDBEkQ4dWDh5MhMmTGDixIls27aNKlWq0K1bN3r06JFmCfNBg/zJE8Annyh5EhEREZHcxdMVKEktT6xAvfIK9O7tf16xAho0yNIQK1ZAw4b+57vugilT0u4vIiIiIhIJ2X0PlOR11sLLL/ufGzbMcvJkLQwc6H8uVgxGjvQoPhERERGRKFICJelbvBjWr/c/P/hglod45BH4+uvA58qVPYhNRERERCTKlEBJ+pKvPpUrB+3bZ+njx47BmDH+5xIl4F//8ig2EREREZEoUwIladu6FebM8T937w5pFIhIS48ecOqU/7lNGzjjDI/iExGR/2/vzuMkK8tDj/+eYdgEwrBvg6IsIkZlEBQQZAIMRCIKCoqgQlBQYtS4RE3cojHRm+uGaGS5UWIQFxCNYvCCCwFEGJEhIgJRwyCDwCibbDMwzHP/OKdu1ZRdVae7q/pUdf2+n099Tp3lffuZp9/prqfPOe+RJM0wCyh1dtZZzYc2rbVWUQ1Nwr33wrnnNtfXWQdOP72P8UmSJEkzrK/TmGuWefvbYfvtiynM588v3k/C8cfD448319/4RlhvvT7HKEmSJM0gpzEfsFkxjTnAihWTqn5uuw2e9KRiBj4oZt574AGf+yRJkqR6OY25ZsYkTx298pXN4gngve+1eJIkSdLo8yOt+u6mm+Cyy5rr8+YVU5dLkiRJo84CSn+o9calKXj1q9dc/+hHPfskSZKk2cGPtVpTJuy1F7z85XDxxZMupm66CX784+b6VlvBa17T5xglSZKkmlhAaU1LlhSvr34VDj0Uzj9/Us1PPHHN9Y99rI+xSZIkSTWzgNKaWh/ctOGGcPjhlZvefTdcd11zfcst4bjj+hibJEmSVDMLKDWtXg1f/nJz/YgjivnHK/rEJ+CRR5rrp57ax9gkSZKkIWABpabLL4fbb2+uH3ts5ab33AOf+lRz/QUvgGOO6WNskiRJ0hCwgFLTl77UfL/ZZnDwwZWbnnpq8aDchve9r49xSZIkSUPCAkqFRx+F885rrh99NKy9dqWm99+/5tmnQw6Bvffuc3ySJEnSELCAUuGSS4rr8Bomcfne8cfDffc119/znj7GJUmSJA0RCygVvvrV5vv58+F5z6vU7OGH4cILm+ubbw777dfn2CRJkqQhYQElWLUKvvWt5vrRR8OcakPjbW9b81m7r30tRPQ5PkmSJGlIWEAJLrsM7r23uX7kkZWarV4NZ5/dXF97bfj7v+9vaJIkSdIwsYAS3HgjzJ1bvN9iC9h330rNPvxhWLGiuX7MMc1uJEmSpNkoMrPuGGa1iFi23Xbbbbds2bK6Q+nuvvvg298u5iJ//esrNdl00+aJqzlz4O67Yd68AcYoSZIkTdP8+fO5/fbbb8/M+VNp7/kCFebNg+OOq3z4OeesedXfQQdZPEmSJGn28xI+Tcmpp665fsYZ9cQhSZIkzSQLKE3ab38LP/1pc33PPeHJT64vHkmSJGmmWECNsxUr4NFHJ93srLPWbHbOOX2MSZIkSRpiFlDj7NxzYbPN4IgjimvwKkwosmoVfPazzfVDDoGnPnWAMUqSJElDxAJqnH3nO/Dgg/Dv/w5nnlnpCbgrVhRzTWy6abH+xjcOOEZJkiRpiFhAjatVq+CSS5rrL3hBpWYbbggf+QgsWwZf/GLlZpIkSdKs4DTm4+rqq4tnPzX86Z9Oqvn668Oxx/Y5JkmSJGnIeQZqXF10UfP9xhvD3nvXF4skSZI0IiygxlXr5XuLFsFcT0ZKkiRJvVhAjaPf/x5+8pPm+sEH92xywQXw/vfDrbcOMC5JkiRpyFlAjaMrroDHH2+u/8mf9GzysY/BBz9YPDD3r/5qgLFJkiRJQ8wCahz94AfN99tuCzvv3PXwG26AK68s3mf2PFySJEmatSygxtGllzbfL1zY8/lP//Ivzffrrefse5IkSRpfFlDj5v774dprm+s9Lt9buRK+8IXm+lFHwSabDCg2SZIkachZQI2b66+HOS3f9oULux7+jW/A3Xc31086aTBhSZIkSaNgbOeujojjgEOBZwHbAJsADwM3A18HTsvMB+uLcED22694gO6VV8LixbDjjl0PP/vs5vtddoH99x9seJIkSdIwG9sCCjgF2Be4EbgWuAfYCtgH2As4MSIOyMzf1BfigGywQfHsp0WLuh52111w8cXN9RNO6Hm7lCRJkjSrjXMB9TbgF5l5T+vGiNgM+AawH/Ax4BU1xDYUvvxlWL26uX7ccfXFIkmSJA2Dsb0HKjOvbi+eyu13A39brh4ys1ENl3/7t+b7Aw6AJz6xvlgkSZKkYTC2BVQPq8rlylqjqNGNN8JPftJcf9Wr6otFkiRJGhbjfAnfhCJiI+DvytVv1hhK/510Evz617DPPnDYYfCc53Q89KKLmu/XXRde+tIZiE+SJEkacmNfQEXEIcCxFGfjGpNIbAR8B3hnxT6Wddm99XRj7JvvfAeWLStmhli5smsB9Za3wIEHFpfxrVwJ8+bNYJySJEnSkBr7AgrYDTi+bdu5wFsz8/4a4hmMZcuKV8Pee3c9PAJ23714SZIkSSqM/T1QmfnJzAxgHWAnitn5XgD8PCKeX7GP+Z1ewJ2Di34SrrpqzfUeBZQkSZKkPzT2BVRDZj6Wmb/KzI9TFFCbAOdExPo1h9YfrTNCPOlJsNVW9cUiSZIkjSgLqAlk5tXAz4HtgT1rDqc/lixpvt9jj46HrVwJmTMQjyRJkjSCLKA6e6hcbllrFP2QuWYBtWBBx0Pf9S7YbTd473vhZz+bgdgkSZKkEeIkEhOIiM2BZ5Wr/11nLH1xxx2wfHlzvcMZqNWr4fzzi7kmPvShYvn5z89QjJIkSdIIGMszUBGxW0QcFxHrTbBvF+A8YF3gqsy8fsYD7Ldrr11zvcMZqKuvXnOivqOOGmBMkiRJ0gga1zNQWwLnAGdExBJgGcUsfE8E9qAoLG8EXl5bhP3UevnellvCNttMeNh55zXfb7wxLFo04LgkSZKkETOuBdQNwLuB/YFdgQXA2sA9wPeAC4DPZ+bK2iLsp/b7nyL+4JBMuOCC5vqLXwzrrDMDsUmSJEkjZCwLqMz8LfCPdccxYypMIHH99XDrrc31l7xkwDFJkiRJI2gsC6ixc/rpxX1QS5bAAQdMeMiFFzbfr7suHHzwDMUmSZIkjRALqHFw6KHFq4tvfav5/qCDYIMNBhyTJEmSNILGchY+rWn58mIGvobDD68vFkmSJGmYWUCJb3+7mESi4YUvrC8WSZIkaZhZQGmNy/cWLID58+uLRZIkSRpmFlBjLhNuuaW57uV7kiRJUmdOIjHmIooJ+m6+uTgT9Wd/VndEkiRJ0vCygBIRsOuuxUuSJElSZ17CJ0mSJEkVWUBJkiRJUkUWUGNsxYq6I5AkSZJGiwXUGDv5ZNhxRzjlFPj+9+uORpIkSRp+TiIxpjLhkkvgzjvh9NPhCU+AAw+sOypJkiRpuHkGakz97GdF8dSwaFF9sUiSJEmjwgJqTF1ySfP9OuvA859fXyySJEnSqLCAGlOXXdZ8v88+xSV8kiRJkrqzgBpDq1fD5Zc31xcurC0USZIkaaRYQI2hG26Ae+5prnv5niRJklSNBdQYar18b+5c2Hvv+mKRJEmSRokF1BhqLaD22sv7nyRJkqSqLKDGTOaaBdQBB9QXiyRJkjRqLKDGzC9/uebzn7z/SZIkSarOAmrM/PCHzfdz5sC++9YXiyRJkjRq5tYdgGbW8cfD/vvDVVfBbbfBxhvXHZEkSZI0OiygxkwE7Lhj8ZIkSZI0OV7CJ0mSJEkVWUBJkiRJUkUWUJIkSZJUkfdAjZE3vQkeeACe+1w46CDYeee6I5IkSZJGi2egxkQmfOUrcPbZcMopcM45dUckSZIkjR4LqDFx662wfHlz/bnPrS8WSZIkaVRZQI2JxYvXXH/Oc+qJQ5IkSRplFlBj4tprm++f8hTYfPP6YpEkSZJGlQXUmLjuuub7BQvqi0OSJEkaZRZQYyATlixpru++e32xSJIkSaPMAmoM3HnnmhNIeAZKkiRJmhoLqDHQevYJPAMlSZIkTZUF1Bhovf9piy1g223ri0WSJEkaZRZQY6C1gNp9d4ioLxZJkiRplFlAjQEnkJAkSZL6Y27dAWjw3vOe4jlQ110H++xTdzSSJEnS6BrLAioi1gaeD/wpsBDYGdgAuBtYDJyRmd+uLcA+O/744iVJkiRpesaygAIOAC4p398JXAE8BOwGHA4cHhFnAq/PzKwnREmSJEnDZlzvgVoNfA14fmZuk5kvzMyXZ+YzgGOAx4GTgVfVGaQkSZKk4TKWBVRmfj8zj8rMyyfY9xXg7HL11TMamCRJkqShNpYFVAWNeeu2rzUKSZIkSUPFAmpiO5fLO2qNQpIkSdJQGddJJDqKiK2BE8rVr1Vss6zL7q2nG5MkSZKk4eAZqBYRMRc4B9gYuB44o96IJEmSJA0Tz0Ct6XTgIIrnQR2VmY9WaZSZ8zvtK89Obdef8CRJkiTVyTNQpYg4FXgNcC+wKDP/u+aQJEmSJA0ZCyggIj4GvAm4DzgkM5f0aCJJkiRpDI19ARUR/wS8Fbifoni6puaQJEmSJA2psS6gIuIjwF9TFE+LMvPHNYckSZIkaYiNbQEVER8C3klx2Z7FkyRJkqSexnIWvoh4EfDucvWXwBsiYqJDf5eZb5+xwCRJkiQNtbEsoIBNW97vWb4mcitgASVJkiQJGNNL+DLz7MyMCq8d6o5VkiRJ0vAYywJKkiRJkqbCAkqSJEmSKrKAkiRJkqSKLKAkSZIkqaLIzLpjmNUi4tE5c+asvc0229QdiiRJkjT27rjjDlavXv1YZq4zlfYWUAMWEQ8BawPLB/ylti6Xdw7464wb8zoY5nUwzOtgmNf+M6eDYV4Hw7wORp153RJ4LDM3mEpjC6hZIiKWAWTm/LpjmU3M62CY18Ewr4NhXvvPnA6GeR0M8zoYo5xX74GSJEmSpIosoCRJkiSpIgsoSZIkSarIAkqSJEmSKrKAkiRJkqSKLKAkSZIkqSKnMZckSZKkijwDJUmSJEkVWUBJkiRJUkUWUJIkSZJUkQWUJEmSJFVkASVJkiRJFVlASZIkSVJFFlCSJEmSVJEFVI0i4uiIuDQi7o2IhyLivyLiHRGx9hT7e3ZEnBcRd0XEioi4JSJOi4gte7TbKiI+XR6/smx/XkTsMbV/Wb3qzmtE7BAR2eP1ken9K2dev/IaEZtFxAllDq+MiIfLnHy3YvudIuLsiFhWjtdl5fpTpvYvq0/dOY2IhRXG6uun96+ceX3M64KI+JuI+F75//+xss/LI+INvfqbTWMV6s+r47VnP/tGxD9HxI8i4vby99VDEfHz8mfDDj3aO14n7mdKeZ2N47VfOe3Q92Eteen1u6v2seqDdGsSEZ8E3gysAr4PPAgcCMwDrgAOycxHJtHfUcCXgLnAj4FbgD2BpwB3Aftl5i8naLcLcDmwJfA/wDXAk4G9ythelplfn9q/cuYNQ17LH6a3AA8B53fo+tuZeV7VOOrWz7xGxBHARGPqe5l5cI+2zwMuBp4A3AD8DPhj4OkU+T44M6+qEkfdhiGnEbEQ+AHFWP5Oh8P+NTN/UCWOYdCvvEbEXOCxcvVBiv//dwHzgX2AtYDFwKGZed8E7WfNWIXhyKvjtWdfHwLeDfwa+BVFnjYG9gC2ohh3L8zMSydo63jt3NeU8jrbxmu/P1+19b0JxZjbBgi6/O4amrGamb5m+AUcASTwALBHy/bNgZ+W+z46if62LQdNAie3bF8L+Ldy+2LKgrllfwDXlvu/AKzVsu/klhi3rjtnI5bXHcp9S+vOyZDmdR/g9HKM7Qm8ruzjuz3aPQG4vTz2H9v2/WO5/dfA+nXnbIRyurA87tK6czJseaX4o8k1wNHAum37ngH8puzvcxO0nTVjdcjy6njt3t/TgB0m2L4O8Mmyv9to+V1f7ne8Diavs2a89junE/R/DkVh9s90+d01TGO19m/KOL4oPnQn8O4J9u1X7lsBbFyxv38q21wywb4NgfvK/Ye27Tus3H4vsOEEbb9b7v9w3TkbsbzuwOwqoPqa1wn6OKHbD8yW4/6iPO5mYE7bvjnl9gReV3fORiins+YX/Ezkta2/V5b9PQys3bZv1ozVIcur43XqX2tt4JGyz2e07XO8Diavs2a8DjKnwJFl+3/q9btrmMaq90DNsIjYjuLyOIBz2/dn5hUUf8lYl6LAqeLILv09CHyzXH1Jh3bfLI9r1+ivvd3QGbK8zhoDyutUNb4fX87M1W1xrAa+Uq4O9fdjyHI6a9SQ1yXlcn2Kv8K2mhVjFYYur7NGDXlNoDEWV7btc7xOXbe8zgqDzGlEbE5x9cTNwPsqNBmasWoBNfMWlMt7MvOWDsdc03ZsRxGxEbBTW7uq/S1o29+p3c4RsUGvWGo2THlt2CAi3hURp5c3mv5VRDy119ceMn3Na59imer3Y1gMU04btoqI90XEGRFxakScEhFPnKGv3S8zndedy+WjwD0dYhn1sQrDldcGx+skRMRawPspLn/6OdB+P7TjdQoq5LVh1MfrIHP6WYo/lLwmM1dMIpbax+rcQX8B/YEnl8tfdznmtrZju9mh5X2nPjv11yuWRrsov84NFeKpyzDltWFz4MNt2z4eEV8ETulw1m/Y9DuvU1IWtJv1iKURxxYRsUFmPjSoeKZpKHLaZlfgA23bVkXEacA7MnPVDMUxHTOW14gI4B3l6oWZubJl32waqzAkeW3jeO2i/HD+wXJ1U4oPk/MpPuC/rPUv947X6iaT1zajPl4HktOIOAY4Cjg1M39Y4fihGquegZp5G5XLbt/UxgfrP5pEf9367NRfr1haP+BXiaVOw5TXlcBZwKHA9hR/nXo68F6K6/pfCXyt/LAw7Pqd1+nG0S2WURmvw5JTgPspboI+gGL2ow2AZwKfoLg05S0UN/WOgpnM6/spJu54EHhXhzi6xTIqYxWGJ6/geK1qU+D48nU4xYf8a4GjMrP9D6GO1+omk1eYPeO17zmNiK2Bz1DMavi3k4yjWywzNlYtoKQ+y8w7MvPkzLw4M5dl5iOZ+fPM/BDFlJ+PA4cAL643Uo27zFySmW/JzMsy887MfDgzr8/MtwLHlIedFBG71xnnMImIV1Ncq78aODEzf1FzSLNClbw6XqvJzOsyMyg+480HXkbxh7yfRMSbag1uhE02r47Xrs4ENgFem5kP1x3MVFhAzbwHymW3e4o2LJe/n0R/3frs1F+vWDZseV8lljoNU147yszFwLfK1cOrtqtRv/M63Ti6xTIq43VYctpVZl4AXFeuOlYpHiIJfK5cPSknfpbbbBqrMDx57crx+oeycHuZz30onkf0iYh41gRxdIvF8dqiYl579TFK47WvOY2Ixhm803OCZ5JViKNbLDM2Vi2gZt7Scrl9l2Ma+5Z2Oabh1pb3nW5K7NRfY71Xu2z7OsNoabkchrz2cmO5nD/JdnVYWi77ldcpycwHaN5Q3uv78bshv0Z/abmsNacVOVZLEfESihmo5lBMkfu5iY6bZWMVhiSvFTleO8jiocRfp8jzi1q2O16noVNeKxqV8bq0XPYrp42Z9PaKiEtbXzQv3X12y/atYfjGqgXUzGtM0bpZRHS62W7Pcnltr84y8/c0Z37Zs8Nhnfq7tm1/p3a/GIEJD4Ypr700boJ8oOtRw6GveZ2mquN10HFM1zDltBfHKhARRwBfpniI9imZeVaPJrNlrMJw5bUXx2t3jQ+UW7Ztd7xOT6e89jIq43VQOd2T4v6w1ldjpuJ5LdvWa2kzNGPVAmqGZeYy4Mfl6rHt+yNiP4oKeiXwHxW7/XqX/jakeXr4gg7tXtRhmvJGf+3ths6Q5bWjMs+NdourtqvLgPI6VY3vxzERscbPrnL95eXqUI/XIctpR+WzP/YvV8d2rEbE4cBXKWatPSUzz6jQbFaMVRi6vHbrz/Ha24Hl8r/btjtep6dTXjsapfHa75xm5hGZGRO9gD8vD/tey/alLc2HZ6zmEDzheNxewBEUl8U9AOzRsn0z4Kflvo+2tTkSuIliULX3ty3FX0CS4vrxxva1gC+U2xcD0dYuKKr0BP4VWKtl38ktMW5dd85GLK8nA9tP0N+Tge+W7e4FNq87Z3XkdYL+T6DLk8dbjnsCcHt57D+07fuHcvttwPp152yEcvrmicYhxUxRjZ8NvwTWrTtndeSV4qGQKykmNjh5EnHMmrE6ZHl1vHbP698AW0ywfRPgtLK/+4CtHK8zktdZM177ndMuX+cEuvzuGqaxWvs3ZVxfwKnlN/pR4CLgfIoP1Qlc0f7NbxlUSzv0dzSwqjzmKorLIn5Vrt8J7NSh3VOB5eVxvyrbXV2uPwYcWXeuRi2vFDeGrgauB74GfKlsu6Js9zvg+XXnqua8XtXyauTz/rbtfzZBu+fRLGqvL3N7fbn+ILB33bkapZxS/NJfRfHwwfMonuJ+DcVMkUlxL+DT6s5VHXmluByn8X/2NuDsLq+JPiTNmrE6LHl1vHb/OVBuX0VxydX5FL+vLi/HW+ND/qIOcThe+5zX2TZe+5nTLl+j0abjH/+GZazW/g0Z5xfFFJj/SfEh5+FyALwTWGeCY3sORODZFB/Yl1P8dW8p8Gna/ioyQbuty+OWlu2Wl/3sMZ1/37jmFTix/EF5I3A3RSF6L8XZqr8Dtqw7R3XntdzX63VCh7Y7UZwxvb38QX57ub5j3TkatZwCfw18A/gFxS/7x8oxeznwdmCjunNUV14pHqZdJacJ7DDbx+ow5NXx2vOD/hsoPtzfTPE75zGKm+5/RPG7p9dnAcdrH/M6G8drv3Lapf9Gm15XT9Q+VqMMRJIkSZLUg5NISJIkSVJFFlCSJEmSVJEFlCRJkiRVZAElSZIkSRVZQEmSJElSRRZQkiRJklSRBZQkSZIkVWQBJUmSJEkVWUBJkiRJUkUWUJIkSZJUkQWUJEmSJFVkASVJkiRJFVlASZIGIiKWRkRWeJ1Qd6yjJiIWRMTjEXFa2/aFjby2bV8rIm6KiFsjYv2ZjVaSZpe5dQcgSZr1fgj8ssv+bvs0sdOAR4C/r3JwZj4eEe8BzgPeAXxggLFJ0qxmASVJGrT/k5ln1x3EbBERRwHPA/53Zi6v2i4zz4+I64F3RsQZmXnnwIKUpFnMS/gkSRotbymX/zKFtp8D1gdO7l84kjReLKAkSUOl9R6eiHhpRFwREb+PiIci4ocRcViXtnMj4rURcWlE3BMRKyPiloj4bERsP8HxjXuGLo2IJ0TEByPixoh4OCKWthwXEXFiRFxT7rs7Ii6KiH1b+2g5/s/Lbf+3S6zbRsRjEfFIRGxWMTcLgH2BqzLz5ipt2nwRWAW8LiK8CkWSpsACSpI0lCLiAxT37AD8B/ALiuLhwog4coLjNwIuAc4Cng38FPgmsBJ4PbCkLEAmsh5wKfBW4Jay3S9a9n+G4ozPAmAxcDGwPXAZ8MIJ+jsX+C2wKCJ26fA1X0dxKf2XMvPuDse0O6Jcfrfi8WvIwKYzzgAABWtJREFUzN8C1wHbAntNpQ9JGncWUJKkYfUmYJ/M3C8zj8nM3SkmPwjgIxMcfzqwELgQ2DEzF2bm0Zm5K8Vlb5sBX4mItSZo+1xgXWCnzDys/HqLACLiRcApwIPA/mW/r8jMP6aYkOFt7Z1l5krgzDLWN7Tvj4i1aV5G9+mK+QA4sFz+aBJt2l1ZLg+aRh+SNLYsoCRJg/b5HtOYz+vQ7n2ZeXXbtg8D9wO7tF6SFxFPA14B/AY4tn1yhcz8JMVZrJ2BF3T4en/ZYWKFN5fL0zLzytYdmflx4Mcd+vtn4DHg+IjYoG3fS4GtgR9l5rUd2k+kcQbtxkm0aXdDudxjGn1I0tjy+mdJ0qD1msb80Q7bv9W+ITNXRsT/UBQS2wG3lbsOozjbc1FmPtChv0vL4/alOEvVanlmXt7eoLxPaN9y9Ysd+j2XCS6Hy8zfRMT5FIXdqyjOkDU0zkpVPvtUFmGNQqzqJX8TabTdahp9SNLYsoCSJA3aVKcx/3WH7b8vl+u1bHtKuXxNRLymR79bTLBtaYdjN2/5Op2O6bQd4FMUBdQbKAuoiHgmsB9wF3B+10jXtHHL+05FYhWN/G0yjT4kaWxZQEmShlJmrp7E4Y1L0q8D/qvHse2XBULxUNqpyo47Mq+KiMXAcyLigMz8T5pnn87MzE5n3yZyX8v7jWgWQpPVKMTunWJ7SRprFlCSpNmgcSnfDzPzL/vY790Us/itCzwJ+PkEx+zQo49PAecAfxkR/wUcRzGV+OldW7XJzIcj4iGKy/g2Y+oFVGPK9Lum2F6SxpqTSEiSZoOLyuWLImK9rkdOQmY+RnPGu2M7HPaKHt18FbiDYgryd1MUQF/PzN9MIaTGhBO7TaFtwx+Xy59Mow9JGlsWUJKkkZeZS4CvUTyb6YKI2KH9mIjYICKOi4jJTp7wqXL5pojYu63PN1NMgd4ttseAz1Jc9fH2cvNkpi5v9YNyuc8U20NzUozvT6MPSRpbXsInSRq010bEwi77L87Mc/vwdf4cmEcxTfnN5eVyt1DMzrcD8CxgHeBpTOLytcz8ekScSfHcpisi4nKKM0rPKPv6BMVzprrdz3QGxdmndYGfZuZlk/qXNX0DeB+wCHhPt7An2hgRWwDPpJjuvdP065KkLiygJEmD9rzy1cl9FFOBT0tmPhARhwAvB14JPBvYneJeoTsopiH/JvCrKXT/eoqC4xRgb2AFsBj4C5r3QP2uS2zLI+I6irNVn5nC12/0syQirgT2jYinZWb786DWL5cPdejilRS/+8/IzFVTjUOSxllkdpw8SJIk9RARn6M4+/W28sG6Ex2zC3ATxUOAt8vMh6fx9Y4CzgM+nplva9v3RopLDq/PzGe27QuKGQp3Ap7S4aHBkqQevAdKkqQeIuLp5YNsW7fNiYiTgBMozkh9qUsXH6S4lPCz0ymeADLzfIqHE7+u9X6uiJgHnFiuXjxB06MoLjv8XxZPkjR1noGSJKmHiDgbeBmwBLidYia93Sgu33scOCkzP9/W5kXAi4GnU1y6dyfwtMxsfZ7TVONZAFxDMTnFlcDRFBNLbEVxf9ezMvOuluPXAm6guMRv18ycznOvJGmseQ+UJEm9fQX4I5r3Vc0FlpfbP5mZV03QZg+KM0IPAN8F3tqP4gn+/6yDawFExCeBF1IUaJ8HPtBaPJXHPw7s2o+vLUnjzjNQkiRJklSR90BJkiRJUkUWUJIkSZJUkQWUJEmSJFVkASVJkiRJFVlASZIkSVJFFlCSJEmSVJEFlCRJkiRVZAElSZIkSRVZQEmSJElSRRZQkiRJklSRBZQkSZIkVWQBJUmSJEkVWUBJkiRJUkUWUJIkSZJU0f8D+WoNjYLZm/YAAAAASUVORK5CYII=\n"
                },
                "metadata": {
                  "needs_background": "light"
                }
              }
            ]
          }
        },
        "fec888b4539d4d3a8181fc48d9d437b4": {
          "model_module": "@jupyter-widgets/base",
          "model_name": "LayoutModel",
          "model_module_version": "1.2.0",
          "state": {
            "_model_module": "@jupyter-widgets/base",
            "_model_module_version": "1.2.0",
            "_model_name": "LayoutModel",
            "_view_count": null,
            "_view_module": "@jupyter-widgets/base",
            "_view_module_version": "1.2.0",
            "_view_name": "LayoutView",
            "align_content": null,
            "align_items": null,
            "align_self": null,
            "border": null,
            "bottom": null,
            "display": null,
            "flex": null,
            "flex_flow": null,
            "grid_area": null,
            "grid_auto_columns": null,
            "grid_auto_flow": null,
            "grid_auto_rows": null,
            "grid_column": null,
            "grid_gap": null,
            "grid_row": null,
            "grid_template_areas": null,
            "grid_template_columns": null,
            "grid_template_rows": null,
            "height": null,
            "justify_content": null,
            "justify_items": null,
            "left": null,
            "margin": null,
            "max_height": null,
            "max_width": null,
            "min_height": null,
            "min_width": null,
            "object_fit": null,
            "object_position": null,
            "order": null,
            "overflow": null,
            "overflow_x": null,
            "overflow_y": null,
            "padding": null,
            "right": null,
            "top": null,
            "visibility": null,
            "width": null
          }
        },
        "755f9137abb044eca2736c5a841989c8": {
          "model_module": "@jupyter-widgets/base",
          "model_name": "LayoutModel",
          "model_module_version": "1.2.0",
          "state": {
            "_model_module": "@jupyter-widgets/base",
            "_model_module_version": "1.2.0",
            "_model_name": "LayoutModel",
            "_view_count": null,
            "_view_module": "@jupyter-widgets/base",
            "_view_module_version": "1.2.0",
            "_view_name": "LayoutView",
            "align_content": null,
            "align_items": null,
            "align_self": null,
            "border": null,
            "bottom": null,
            "display": null,
            "flex": null,
            "flex_flow": null,
            "grid_area": null,
            "grid_auto_columns": null,
            "grid_auto_flow": null,
            "grid_auto_rows": null,
            "grid_column": null,
            "grid_gap": null,
            "grid_row": null,
            "grid_template_areas": null,
            "grid_template_columns": null,
            "grid_template_rows": null,
            "height": null,
            "justify_content": null,
            "justify_items": null,
            "left": null,
            "margin": null,
            "max_height": null,
            "max_width": null,
            "min_height": null,
            "min_width": null,
            "object_fit": null,
            "object_position": null,
            "order": null,
            "overflow": null,
            "overflow_x": null,
            "overflow_y": null,
            "padding": null,
            "right": null,
            "top": null,
            "visibility": null,
            "width": null
          }
        },
        "dc8004b9cadb4d3091b3ac3bb95be9be": {
          "model_module": "@jupyter-widgets/controls",
          "model_name": "DescriptionStyleModel",
          "model_module_version": "1.5.0",
          "state": {
            "_model_module": "@jupyter-widgets/controls",
            "_model_module_version": "1.5.0",
            "_model_name": "DescriptionStyleModel",
            "_view_count": null,
            "_view_module": "@jupyter-widgets/base",
            "_view_module_version": "1.2.0",
            "_view_name": "StyleView",
            "description_width": ""
          }
        },
        "39eeb6e81a984026a15facd47ec94707": {
          "model_module": "@jupyter-widgets/base",
          "model_name": "LayoutModel",
          "model_module_version": "1.2.0",
          "state": {
            "_model_module": "@jupyter-widgets/base",
            "_model_module_version": "1.2.0",
            "_model_name": "LayoutModel",
            "_view_count": null,
            "_view_module": "@jupyter-widgets/base",
            "_view_module_version": "1.2.0",
            "_view_name": "LayoutView",
            "align_content": null,
            "align_items": null,
            "align_self": null,
            "border": null,
            "bottom": null,
            "display": null,
            "flex": null,
            "flex_flow": null,
            "grid_area": null,
            "grid_auto_columns": null,
            "grid_auto_flow": null,
            "grid_auto_rows": null,
            "grid_column": null,
            "grid_gap": null,
            "grid_row": null,
            "grid_template_areas": null,
            "grid_template_columns": null,
            "grid_template_rows": null,
            "height": null,
            "justify_content": null,
            "justify_items": null,
            "left": null,
            "margin": null,
            "max_height": null,
            "max_width": null,
            "min_height": null,
            "min_width": null,
            "object_fit": null,
            "object_position": null,
            "order": null,
            "overflow": null,
            "overflow_x": null,
            "overflow_y": null,
            "padding": null,
            "right": null,
            "top": null,
            "visibility": null,
            "width": null
          }
        },
        "2e800d127d7d40c5b0342006f75d5227": {
          "model_module": "@jupyter-widgets/controls",
          "model_name": "VBoxModel",
          "model_module_version": "1.5.0",
          "state": {
            "_dom_classes": [
              "widget-interact"
            ],
            "_model_module": "@jupyter-widgets/controls",
            "_model_module_version": "1.5.0",
            "_model_name": "VBoxModel",
            "_view_count": null,
            "_view_module": "@jupyter-widgets/controls",
            "_view_module_version": "1.5.0",
            "_view_name": "VBoxView",
            "box_style": "",
            "children": [
              "IPY_MODEL_84eb576efc2048eea8e95324fdb49418",
              "IPY_MODEL_7741eee6e3124cff8314a976d668d36f"
            ],
            "layout": "IPY_MODEL_dda938aaf2ee43ec8c517d4d28dfbc74"
          }
        },
        "84eb576efc2048eea8e95324fdb49418": {
          "model_module": "@jupyter-widgets/controls",
          "model_name": "CheckboxModel",
          "model_module_version": "1.5.0",
          "state": {
            "_dom_classes": [],
            "_model_module": "@jupyter-widgets/controls",
            "_model_module_version": "1.5.0",
            "_model_name": "CheckboxModel",
            "_view_count": null,
            "_view_module": "@jupyter-widgets/controls",
            "_view_module_version": "1.5.0",
            "_view_name": "CheckboxView",
            "description": "log-log plot?",
            "description_tooltip": null,
            "disabled": false,
            "indent": true,
            "layout": "IPY_MODEL_7cca8856373a4f5aad3baf2b0a0acd4c",
            "style": "IPY_MODEL_18307027ac5747df92b0dd15073bb642",
            "value": false
          }
        },
        "7741eee6e3124cff8314a976d668d36f": {
          "model_module": "@jupyter-widgets/output",
          "model_name": "OutputModel",
          "model_module_version": "1.0.0",
          "state": {
            "_dom_classes": [],
            "_model_module": "@jupyter-widgets/output",
            "_model_module_version": "1.0.0",
            "_model_name": "OutputModel",
            "_view_count": null,
            "_view_module": "@jupyter-widgets/output",
            "_view_module_version": "1.0.0",
            "_view_name": "OutputView",
            "layout": "IPY_MODEL_db24787e562246b2bd3c5904b15b32ab",
            "msg_id": "",
            "outputs": [
              {
                "output_type": "display_data",
                "data": {
                  "text/plain": "<Figure size 960x640 with 1 Axes>",
                  "image/png": "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\n"
                },
                "metadata": {
                  "needs_background": "light"
                }
              }
            ]
          }
        },
        "dda938aaf2ee43ec8c517d4d28dfbc74": {
          "model_module": "@jupyter-widgets/base",
          "model_name": "LayoutModel",
          "model_module_version": "1.2.0",
          "state": {
            "_model_module": "@jupyter-widgets/base",
            "_model_module_version": "1.2.0",
            "_model_name": "LayoutModel",
            "_view_count": null,
            "_view_module": "@jupyter-widgets/base",
            "_view_module_version": "1.2.0",
            "_view_name": "LayoutView",
            "align_content": null,
            "align_items": null,
            "align_self": null,
            "border": null,
            "bottom": null,
            "display": null,
            "flex": null,
            "flex_flow": null,
            "grid_area": null,
            "grid_auto_columns": null,
            "grid_auto_flow": null,
            "grid_auto_rows": null,
            "grid_column": null,
            "grid_gap": null,
            "grid_row": null,
            "grid_template_areas": null,
            "grid_template_columns": null,
            "grid_template_rows": null,
            "height": null,
            "justify_content": null,
            "justify_items": null,
            "left": null,
            "margin": null,
            "max_height": null,
            "max_width": null,
            "min_height": null,
            "min_width": null,
            "object_fit": null,
            "object_position": null,
            "order": null,
            "overflow": null,
            "overflow_x": null,
            "overflow_y": null,
            "padding": null,
            "right": null,
            "top": null,
            "visibility": null,
            "width": null
          }
        },
        "7cca8856373a4f5aad3baf2b0a0acd4c": {
          "model_module": "@jupyter-widgets/base",
          "model_name": "LayoutModel",
          "model_module_version": "1.2.0",
          "state": {
            "_model_module": "@jupyter-widgets/base",
            "_model_module_version": "1.2.0",
            "_model_name": "LayoutModel",
            "_view_count": null,
            "_view_module": "@jupyter-widgets/base",
            "_view_module_version": "1.2.0",
            "_view_name": "LayoutView",
            "align_content": null,
            "align_items": null,
            "align_self": null,
            "border": null,
            "bottom": null,
            "display": null,
            "flex": null,
            "flex_flow": null,
            "grid_area": null,
            "grid_auto_columns": null,
            "grid_auto_flow": null,
            "grid_auto_rows": null,
            "grid_column": null,
            "grid_gap": null,
            "grid_row": null,
            "grid_template_areas": null,
            "grid_template_columns": null,
            "grid_template_rows": null,
            "height": null,
            "justify_content": null,
            "justify_items": null,
            "left": null,
            "margin": null,
            "max_height": null,
            "max_width": null,
            "min_height": null,
            "min_width": null,
            "object_fit": null,
            "object_position": null,
            "order": null,
            "overflow": null,
            "overflow_x": null,
            "overflow_y": null,
            "padding": null,
            "right": null,
            "top": null,
            "visibility": null,
            "width": null
          }
        },
        "18307027ac5747df92b0dd15073bb642": {
          "model_module": "@jupyter-widgets/controls",
          "model_name": "DescriptionStyleModel",
          "model_module_version": "1.5.0",
          "state": {
            "_model_module": "@jupyter-widgets/controls",
            "_model_module_version": "1.5.0",
            "_model_name": "DescriptionStyleModel",
            "_view_count": null,
            "_view_module": "@jupyter-widgets/base",
            "_view_module_version": "1.2.0",
            "_view_name": "StyleView",
            "description_width": ""
          }
        },
        "db24787e562246b2bd3c5904b15b32ab": {
          "model_module": "@jupyter-widgets/base",
          "model_name": "LayoutModel",
          "model_module_version": "1.2.0",
          "state": {
            "_model_module": "@jupyter-widgets/base",
            "_model_module_version": "1.2.0",
            "_model_name": "LayoutModel",
            "_view_count": null,
            "_view_module": "@jupyter-widgets/base",
            "_view_module_version": "1.2.0",
            "_view_name": "LayoutView",
            "align_content": null,
            "align_items": null,
            "align_self": null,
            "border": null,
            "bottom": null,
            "display": null,
            "flex": null,
            "flex_flow": null,
            "grid_area": null,
            "grid_auto_columns": null,
            "grid_auto_flow": null,
            "grid_auto_rows": null,
            "grid_column": null,
            "grid_gap": null,
            "grid_row": null,
            "grid_template_areas": null,
            "grid_template_columns": null,
            "grid_template_rows": null,
            "height": null,
            "justify_content": null,
            "justify_items": null,
            "left": null,
            "margin": null,
            "max_height": null,
            "max_width": null,
            "min_height": null,
            "min_width": null,
            "object_fit": null,
            "object_position": null,
            "order": null,
            "overflow": null,
            "overflow_x": null,
            "overflow_y": null,
            "padding": null,
            "right": null,
            "top": null,
            "visibility": null,
            "width": null
          }
        }
      }
    }
  },
  "cells": [
    {
      "cell_type": "markdown",
      "metadata": {
        "id": "view-in-github",
        "colab_type": "text"
      },
      "source": [
        "<a href=\"https://colab.research.google.com/github/omargfh/physics-131-labs/blob/main/Cratering.ipynb\" target=\"_parent\"><img src=\"https://colab.research.google.com/assets/colab-badge.svg\" alt=\"Open In Colab\"/></a>"
      ]
    },
    {
      "cell_type": "markdown",
      "metadata": {
        "id": "4ySk1v1dA8KQ"
      },
      "source": [
        "#CRATERING\n",
        "\n",
        "This notebook is divided into three sections. You must run the preliminary cells first **everytime** you open the notebook, but you may run Part 1 and Part 2 separately after that.\n",
        "\n",
        "To exectute a cell, click `shift+enter` or press the \"play\" arrow next to the cell. "
      ]
    },
    {
      "cell_type": "markdown",
      "metadata": {
        "id": "NdHh3BxR_8rl"
      },
      "source": [
        "# Preliminary cells\n",
        "Run the following cells **every time** you start the notebook and before moving on to any individual part.\n",
        "\n",
        "These cells load libraries and defines some useful functions. Later when you have more time, you can look closely at the code and try to understand what it is doing, but for now you can just run the cells by clicking `shift+enter` and moving on. (There is no output.)"
      ]
    },
    {
      "cell_type": "code",
      "metadata": {
        "id": "FYyrc5_r_7iQ"
      },
      "source": [
        "# These lines load important libraries into memory\n",
        "import numpy as np\n",
        "from matplotlib import pyplot as plt\n",
        "import ipywidgets as widgets\n",
        "from IPython.display import clear_output\n",
        "from scipy import optimize\n",
        "\n",
        "# Below are several functions we want to define\n",
        "def average(x):\n",
        "    sum = 0                  # initializes our running total to be zero and calls it \"sum\"\n",
        "    for number in x:         # makes a loop over the list \"x\" \n",
        "        sum = sum + number   # adds the current item in the list (called \"number\" to the running total (called \"sum\")\n",
        "    return(sum / len(x))     # divides the total by the number of items in the list\n",
        "\n",
        "def standard_deviation(x):\n",
        "    avg = average(x)\n",
        "    variance = 0                                # initializes our running total to be zero and calls it \"variance\"\n",
        "    for number in x:                            # makes a loop over the list \"x\" \n",
        "        variance = variance + (number - avg)**2 # adds the square of the difference between each item and the average  \n",
        "    return(np.sqrt(variance/(len(x)-1)))        # divides the total by N-1\n",
        "\n",
        "def standard_error(x):\n",
        "    return(standard_deviation(x))/np.sqrt(len(x)) # divides the standard deviation by sqrt of the number of points\n",
        "\n",
        "def t_prime(A, dA, B, dB=0):               # Calculates the t_prime value between A +/- dA and B +/- B\n",
        "    return((A-B)/np.sqrt(dA**2 + dB**2))   # If only 3 arguments are given, assumes dB = 0 (e.g. a literature value)"
      ],
      "execution_count": 1,
      "outputs": []
    },
    {
      "cell_type": "code",
      "metadata": {
        "id": "eomHvKCQRl6N"
      },
      "source": [
        "# These lines control how our figures look\n",
        "%matplotlib inline\n",
        "plt.rcParams['figure.dpi'] = 160 #Change this value to make your picture bigger or smaller"
      ],
      "execution_count": 2,
      "outputs": []
    },
    {
      "cell_type": "markdown",
      "metadata": {
        "id": "BiWFTKSnYuZ3"
      },
      "source": [
        "# Part 1 -- Making Craters\n",
        "You can use these cells to do calculations and plot your data as you go.\n"
      ]
    },
    {
      "cell_type": "markdown",
      "metadata": {
        "id": "a32nXyM-BV3Q"
      },
      "source": [
        "The cell below first creates empty lists for energies (in Joules) and crater diameters (in centimeters). We then `append` (add to the end of) our experimental values that we have measured.\n",
        "\n",
        "**To add more test energies, use `Energy.append(`energy`)` and `Crater_Width.append([`list of numbers`])`**\n",
        "\n",
        "\n",
        "\n",
        "\n"
      ]
    },
    {
      "cell_type": "code",
      "metadata": {
        "id": "1rgTfXZrBmyy"
      },
      "source": [
        "# This creates empty lists\n",
        "Energy = []\n",
        "Crater_Width = []\n",
        "\n",
        "# This is where you add the energy value and diameters for your first energy\n",
        "# NOTE THE FORMATTING: the energy value is a single number, but the diameters is a list of number\n",
        "#  enclosed in square brackets [...]. Don't forget the square brackets!\n",
        "Energy.append(0.141)\n",
        "Crater_Width.append([6.9, 7.1, 6.8, 7.0, 7.2, 7.1, 7.0])\n",
        "\n",
        "# This is where you add the energy value and diameters for your second energy\n",
        "Energy.append(0.042)\n",
        "Crater_Width.append([5.0, 5.0, 5.0, 4.7, 5.0, 4.9, 5.1])\n",
        "\n",
        "#This is your third energy and list of diameters, etc.\n",
        "Energy.append(0.017)\n",
        "Crater_Width.append([4.0, 3.8, 3.8, 4.0, 3.9, 3.8, 3.8])\n",
        "\n",
        "Energy.append(0.332)\n",
        "Crater_Width.append([8.3, 8.3, 8.3, 8.2, 8.2, 8.4, 8.2])\n",
        "\n",
        "# To add more data, copy and paste additional pairs of the `append` commands from above... one for each energy\n",
        "# Energy.append()\n",
        "# Crater_Width.append([])"
      ],
      "execution_count": 3,
      "outputs": []
    },
    {
      "cell_type": "markdown",
      "metadata": {
        "id": "l8QyziZOZJ88"
      },
      "source": [
        "Next we'll quickly plot each data set to make sure that we haven't done anything strange.\n",
        "\n",
        "Re-run this plot every time you add values for a new energy to see how things are evolving!"
      ]
    },
    {
      "cell_type": "code",
      "metadata": {
        "id": "osaNHhO_jr-v",
        "colab": {
          "base_uri": "https://localhost:8080/",
          "height": 629
        },
        "outputId": "362ead66-3125-4fe3-d45b-e88da72e4ceb"
      },
      "source": [
        "fig,ax = plt.subplots()\n",
        "\n",
        "# This is a loop that plots each energy in a different color\n",
        "for n, Width in enumerate(Crater_Width):\n",
        "    ax.scatter(np.full_like(Width,Energy[n]),Width,marker='.')\n",
        "\n",
        "ax.set_title('Raw Data Plot')\n",
        "ax.set_xlabel('Impactor Kinetic Energy (J)')\n",
        "ax.set_ylabel('Crater Diameter (cm)')\n",
        "plt.show()"
      ],
      "execution_count": 4,
      "outputs": [
        {
          "output_type": "display_data",
          "data": {
            "text/plain": [
              "<Figure size 960x640 with 1 Axes>"
            ],
            "image/png": "[encoded data removed]"
          },
          "metadata": {
            "needs_background": "light"
          }
        }
      ]
    },
    {
      "cell_type": "markdown",
      "metadata": {
        "id": "urbN0-fHefBC"
      },
      "source": [
        "Now that we've checked our data, let's find the average and uncertainty for each energy value.\n",
        "\n",
        "After plotting this data (with error bars equal to the uncertainty), we can use the interactive slider bars to adjust our guesses for A and B in our 1/3 and 1/4 power law models respectively. Which line seems to model the data better?"
      ]
    },
    {
      "cell_type": "code",
      "metadata": {
        "id": "eT2zdtx6k76S",
        "colab": {
          "base_uri": "https://localhost:8080/",
          "height": 830,
          "referenced_widgets": [
            "434aee270bd5406bb407e2095c63eef2",
            "45e4e9af00f44db39332bd1fed4af167",
            "32a4fc0e695c42018abcb62d914be00a",
            "aa8e7d6bd261496e846a8598cf19d41f",
            "7ac19b8c970c43bf8f9f07dc0882d251",
            "363ce5c1136c4286bc9a82fcccd43c2b",
            "d42059b0b9bd43baabe41001faa66760",
            "0e931d3d8e484bef961fc3ec51e7db90",
            "74025771d4184ff8abc603b0821e5468",
            "22b2f5e7b7ad47c1bb65d32ffd769d87",
            "417df166b40a4f4ba21f48c8bde9d273",
            "30bf8afd89c04bd9a8afa67e9d7c175c",
            "21b7eb64bf83446dab71b1cd64b92465",
            "7cf5427add5c4b568e46bf651edfdc6a",
            "bac09cd9508d46488547e59321aa6167",
            "f8c6c3b57d5743438bed18f383ad7499"
          ]
        },
        "outputId": "19e9cf71-49cb-4f4b-f26a-dcbad6e89c9e"
      },
      "source": [
        "Crater_Width_Average = []\n",
        "Crater_Width_Uncertainty = []\n",
        "\n",
        "for n, Width in enumerate(Crater_Width):\n",
        "    Crater_Width_Average.append(average(Width))\n",
        "    Crater_Width_Uncertainty.append(standard_error(Width))\n",
        "    print(Energy[n],\"J   \", Crater_Width_Average[n],\"+-\",Crater_Width_Uncertainty[n],\"cm\")\n",
        "\n",
        "@widgets.interact(A = widgets.FloatSlider(min=1, max=20, step=0.1, value=2),\n",
        "                  B = widgets.FloatSlider(min=1, max=20, step=0.1, value=2),\n",
        "                  maxK = widgets.FloatSlider(min=0, max=2, step=0.1, value=1),\n",
        "                  logplot = widgets.Checkbox(value=False,\n",
        "                                             description= 'log-log plot?'))\n",
        "\n",
        "def update(A, B, maxK, logplot):\n",
        "  fig,ax = plt.subplots()\n",
        "  ax.errorbar(Energy, Crater_Width_Average, Crater_Width_Uncertainty, fmt='k.',\n",
        "             markersize=2, capsize=3)\n",
        "  X = np.linspace(0, maxK, 1000)\n",
        "  ax.plot(X, A*X**(1/3), label='$A*K^{1/3}$')\n",
        "  ax.plot(X, B*X**(1/4), label='$B*K^{1/4}$')\n",
        "  if logplot == True:\n",
        "    ax.set_xscale('log')\n",
        "    ax.set_yscale('log')\n",
        "  ax.set_title('Average Data Plot')\n",
        "  ax.set_xlabel('Impactor Kinetic Energy, $K$, (J)')\n",
        "  ax.set_ylabel('Crater Diameter (cm)')\n",
        "  ax.legend()"
      ],
      "execution_count": 6,
      "outputs": [
        {
          "output_type": "stream",
          "name": "stdout",
          "text": [
            "0.141 J    7.014285714285714 +- 0.05084322977157765 cm\n",
            "0.042 J    4.957142857142857 +- 0.04809288065886697 cm\n",
            "0.017 J    3.8714285714285714 +- 0.03595159254890836 cm\n",
            "0.332 J    8.27142857142857 +- 0.02857142857142879 cm\n"
          ]
        },
        {
          "output_type": "display_data",
          "data": {
            "text/plain": [
              "interactive(children=(FloatSlider(value=2.0, description='A', max=20.0, min=1.0), FloatSlider(value=2.0, descr…"
            ],
            "application/vnd.jupyter.widget-view+json": {
              "version_major": 2,
              "version_minor": 0,
              "model_id": "434aee270bd5406bb407e2095c63eef2"
            }
          },
          "metadata": {}
        }
      ]
    },
    {
      "cell_type": "markdown",
      "metadata": {
        "id": "2B5s8j4eK3wz"
      },
      "source": [
        "Record your average values, and don't forget to save your plots (right click and select \"save as\") and put copies in your lab notebook!"
      ]
    },
    {
      "cell_type": "markdown",
      "metadata": {
        "id": "VVg9kc19KZfO"
      },
      "source": [
        "# Part 2 -- Understanding and applying the model\n",
        "\n",
        "This part will fit your data to the competing models and help you make predictions for new craters."
      ]
    },
    {
      "cell_type": "markdown",
      "metadata": {
        "id": "xgGF-bZ-tm0M"
      },
      "source": [
        "Type in your energies, as well as the corresponding crater width averages and uncertainties. (You wrote those down last time, right? If not, you'll have to re-run the code in part one to calculate them again.)"
      ]
    },
    {
      "cell_type": "code",
      "metadata": {
        "id": "_ilH06eatgDe"
      },
      "source": [
        "Energy = [0.141, 0.042, 0.017, 0.332]\n",
        "Crater_Width_Average = [7.0, 5.0, 3.9, 8.27]\n",
        "Crater_Width_Uncertainty = [0.047, 0.0445, 0.033, 0.05]"
      ],
      "execution_count": 7,
      "outputs": []
    },
    {
      "cell_type": "markdown",
      "metadata": {
        "id": "hcb3UUUESnJa"
      },
      "source": [
        "Next we define our two possible model functions,\n",
        " - The \"1/3-power model\": $D = A*K^{1/3}$\n",
        " - The \"1/4-power model\": $D = B*K^{1/4}$\n",
        "\n",
        "and our residual function (which calculates the difference between the data and the fit function),\n",
        " - Residual on point $i$: $\\chi_i = \\frac{D_{fit} - D_i}{\\delta D_i}$.\n",
        "\n",
        "We can also define a general power law function that may be useful later,\n",
        " - The \"general-power model\": $D = C*K^x$."
      ]
    },
    {
      "cell_type": "code",
      "metadata": {
        "id": "0e93gikCuYf-"
      },
      "source": [
        "#Defines fit functions\n",
        "def third_power(p, x):\n",
        "  return(p[0]*np.array(x)**(1/3)).tolist()\n",
        "\n",
        "def quarter_power(p, x):\n",
        "  return(p[0]*np.array(x)**(1/4)).tolist()\n",
        "\n",
        "def gen_power(p,x):\n",
        "  return(p[0]*np.array(x)**p[1]).tolist()\n",
        "\n",
        "def residual(p, function, x, y, dy):\n",
        "  return ((function(p, np.array(x)) - np.array(y))/np.array(dy))"
      ],
      "execution_count": 8,
      "outputs": []
    },
    {
      "cell_type": "markdown",
      "metadata": {
        "id": "Rf-X-UIu--Yb"
      },
      "source": [
        "Next, we define a function that will perform a least-squares fit to a set of data. **This code is quite complex and you DO NOT need to understand it!**\n",
        "\n",
        "The fit returns the best fit values (e.g. $A$ or $B$) and the uncertainties on that value (e.g. $\\delta A$ or $\\delta B$). It also returns the number of degrees of freedom, the chi-squared value, and the reduced chi-squared value:\n",
        " - Number of degrees of freedom, dof: $\\nu$ = \"number of data points\" - \"number of fit parameters\" \n",
        " - Chi-square: $\\chi^2 = \\sum_i^N \\frac{(D_{fit} - D_i)^2}{\\delta D_i^2}$\n",
        " - Reduced chi-square: $\\chi^2/\\nu$ "
      ]
    },
    {
      "cell_type": "code",
      "metadata": {
        "id": "LvZSqinR4qvI"
      },
      "source": [
        "# The code below defines our data fitting function.\n",
        "# Inputs are:\n",
        "# a list of variable names\n",
        "# initial guess for parameters p0\n",
        "# the function we're fitting to\n",
        "# the x,y, and dy variables\n",
        "# tmi can be set to 1 or 2 if more intermediate data is needed\n",
        "\n",
        "def data_fit(varnames, p0, func, xvar, yvar, err, tmi=0):\n",
        "    try:\n",
        "        fit = optimize.least_squares(residual, p0, args=(func,xvar, yvar, err),\n",
        "                                     verbose=tmi)\n",
        "    except Exception as error:\n",
        "        print(\"Something has gone wrong:\", error)\n",
        "        return p0, np.zeros_like(p0), -1, -1\n",
        "    pf = fit['x']\n",
        "\n",
        "    try:\n",
        "        cov = np.linalg.inv(fit['jac'].T.dot(fit['jac']))          \n",
        "        # This computes a covariance matrix by finding the inverse of the Jacobian times its transpose\n",
        "        # We need this to find the uncertainty in our fit parameters\n",
        "    except:\n",
        "        # If the fit failed, print the reason\n",
        "        print('Fit did not converge')\n",
        "        print('Result is likely a local minimum')\n",
        "        print('Try changing initial values')\n",
        "        print('Status code:', fit['status'])\n",
        "        print(fit['message'])\n",
        "        return pf,np.zeros_like(pf), -1, -1\n",
        "            #You'll be able to plot with this, but it will not be a good fit.\n",
        "\n",
        "    chisq = sum(residual(pf,func,xvar, yvar, err) **2)\n",
        "    dof = len(xvar) - len(pf)\n",
        "    red_chisq = chisq/dof\n",
        "    pferr = np.sqrt(np.diagonal(cov)) # finds the uncertainty in fit parameters by squaring diagonal elements of the covariance matrix\n",
        "    print('Converged with chi-squared: {:.2f}'.format(chisq))\n",
        "    print('Number of degrees of freedom, dof: {:.0f}'.format(dof))\n",
        "    print('Reduced chi-squared (chi-squared/dof): {:.2f}'.format(red_chisq))\n",
        "    print()\n",
        "    Columns = [\"Parameter\", \"Best fit values:\", \"Uncertainties in the best fit values:\"]\n",
        "    print('{:<11}'.format(Columns[0]),'|','{:<24}'.format(Columns[1]),\"|\",'{:<24}'.format(Columns[2]))\n",
        "    for num in range(len(pf)):\n",
        "        print('{:<11}'.format(varnames[num]),'|','{:<24.4f}'.format(pf[num]),'|','{:<24.4f}'.format(pferr[num]))\n",
        "    print()\n",
        "    return pf, pferr, chisq, dof"
      ],
      "execution_count": 9,
      "outputs": []
    },
    {
      "cell_type": "markdown",
      "metadata": {
        "id": "blMZD5nK006P"
      },
      "source": [
        "At the heart of this function is the idea of a **residual**. Residuals are a function of our data and the function we're fitting the data to. The residual for a point is the difference between the y-value of that datapoint and that of the function at the same point. It's a quantitative way of measuring how well a data and function agree with one another.\n",
        "\n",
        "Often formulas will use the residual squared as a way of avoiding negative numbers since undershooting and overshooting points are equally bad.\n",
        "\n",
        "The fitting algorithm above  will vary function parameters `p` repeatedly and keep changes that make the sum of the residuals (squared) smaller until it can't make any meaningful improvements. It also weights points by their uncertainties: points with large uncertanties are likely to be less representative of the underlying behavior than points with small uncertanties.\n",
        "\n",
        "Let's see what it comes up with, and how far our data is from the fits."
      ]
    },
    {
      "cell_type": "markdown",
      "metadata": {
        "id": "e-9K_IADoFcg"
      },
      "source": [
        "Try to fit your data to the two models. Can you tell yet whether you have better agreement with one model over the other?"
      ]
    },
    {
      "cell_type": "code",
      "metadata": {
        "colab": {
          "base_uri": "https://localhost:8080/"
        },
        "id": "eovatUbl5Yzt",
        "outputId": "e883dd74-7423-42dd-b37e-0d66fe1297a7"
      },
      "source": [
        "# Fits\n",
        "print('FIT: D = A*K^(1/3)')\n",
        "print('-----')\n",
        "third_fit, third_err, third_chisq, third_dof = data_fit(['A'], [1], third_power,\n",
        "                        Energy, Crater_Width_Average, Crater_Width_Uncertainty)\n",
        "\n",
        "print('FIT: D = B*K^(1/4)')\n",
        "print('-----')\n",
        "quarter_fit, quarter_err, quarter_chisq, quarter_dof = data_fit(['B'], [1], quarter_power,\n",
        "                        Energy, Crater_Width_Average, Crater_Width_Uncertainty)"
      ],
      "execution_count": 10,
      "outputs": [
        {
          "output_type": "stream",
          "name": "stdout",
          "text": [
            "FIT: D = A*K^(1/3)\n",
            "-----\n",
            "Converged with chi-squared: 630.26\n",
            "Number of degrees of freedom, dof: 3\n",
            "Reduced chi-squared (chi-squared/dof): 210.09\n",
            "\n",
            "Parameter   | Best fit values:         | Uncertainties in the best fit values:\n",
            "A           | 13.1570                  | 0.0479                  \n",
            "\n",
            "FIT: D = B*K^(1/4)\n",
            "-----\n",
            "Converged with chi-squared: 36.67\n",
            "Number of degrees of freedom, dof: 3\n",
            "Reduced chi-squared (chi-squared/dof): 12.22\n",
            "\n",
            "Parameter   | Best fit values:         | Uncertainties in the best fit values:\n",
            "B           | 11.0457                  | 0.0400                  \n",
            "\n"
          ]
        }
      ]
    },
    {
      "cell_type": "markdown",
      "metadata": {
        "id": "1zIDaFX7154o"
      },
      "source": [
        "Next, let's plot the fits to see how they look compared to the data. "
      ]
    },
    {
      "cell_type": "code",
      "metadata": {
        "colab": {
          "base_uri": "https://localhost:8080/",
          "height": 661,
          "referenced_widgets": [
            "35ef447a845c4e64b6a2544be8b88cc4",
            "7a8c1d78c2de4971a8c0a4147b643fcf",
            "7962d7edfe834b78a69ac2aba02e6079",
            "fec888b4539d4d3a8181fc48d9d437b4",
            "755f9137abb044eca2736c5a841989c8",
            "dc8004b9cadb4d3091b3ac3bb95be9be",
            "39eeb6e81a984026a15facd47ec94707"
          ]
        },
        "id": "jmmw-S1w16gW",
        "outputId": "c8c574b7-b1d3-4f39-cfa7-a05e146721f0"
      },
      "source": [
        "#Plots\n",
        "@widgets.interact(logplot = widgets.Checkbox(value=False,\n",
        "                                             description= 'log-log plot?'))\n",
        "\n",
        "def update(logplot):\n",
        "  fig,ax = plt.subplots()\n",
        "  ax.errorbar(Energy, Crater_Width_Average, Crater_Width_Uncertainty, fmt='k.',\n",
        "            label=\"Data\", capsize=2)\n",
        "  \n",
        "  X = np.linspace(min(Energy), max(Energy), 5000)\n",
        "  X_longer = np.linspace(0.25*min(Energy), 1.2*max(Energy), 5000)\n",
        "\n",
        "  ax.plot(X_longer, third_power(third_fit, X_longer), 'b--')\n",
        "  ax.plot(X, third_power(third_fit, X), 'b-', label=\"$A*K^{1/3}$\")\n",
        "  \n",
        "  ax.plot(X_longer, quarter_power(quarter_fit, X_longer), 'r--')\n",
        "  ax.plot(X, quarter_power(quarter_fit, X), 'r-', label=\"$B*K^{1/4}$\")\n",
        "\n",
        "  if logplot == True:\n",
        "    ax.set_xscale('log')\n",
        "    ax.set_yscale('log')\n",
        "\n",
        "  ax.set_title(\"Power law fit Comparison\")\n",
        "  ax.set_ylabel(\"Crater Diameter (cm)\")\n",
        "  ax.set_xlabel(\"Energy (J)\")\n",
        "    \n",
        "  ax.legend()"
      ],
      "execution_count": 11,
      "outputs": [
        {
          "output_type": "display_data",
          "data": {
            "text/plain": [
              "interactive(children=(Checkbox(value=False, description='log-log plot?'), Output()), _dom_classes=('widget-int…"
            ],
            "application/vnd.jupyter.widget-view+json": {
              "version_major": 2,
              "version_minor": 0,
              "model_id": "35ef447a845c4e64b6a2544be8b88cc4"
            }
          },
          "metadata": {}
        }
      ]
    },
    {
      "cell_type": "markdown",
      "metadata": {
        "id": "EKl6Bo7AxZsy"
      },
      "source": [
        "It might still be a little hard to tell how far the data is from the fits, so let's make a plot of residuals for each of the two functions below. We'll also include the sum of the residuals squared (i.e. $\\chi^2$) as a title so we don't have to do that by hand."
      ]
    },
    {
      "cell_type": "code",
      "metadata": {
        "colab": {
          "base_uri": "https://localhost:8080/",
          "height": 641
        },
        "id": "18Mb-U1fxUCV",
        "outputId": "0a73d7a0-ecc3-4ec1-c9e6-31ff82042659"
      },
      "source": [
        "fig,(ax,ay) = plt.subplots(2,1,sharex=True,sharey=True)\n",
        "\n",
        "ax.plot(Energy,residual(third_fit,third_power,Energy,Crater_Width_Average,Crater_Width_Uncertainty),'b.',label='third power')\n",
        "ax.vlines(Energy,0,residual(third_fit,third_power,Energy,Crater_Width_Average,Crater_Width_Uncertainty),'b')\n",
        "ax.hlines(0,min(Energy),max(Energy),'b',alpha=0.25)\n",
        "third_sum_residuals = sum(residual(third_fit,third_power,Energy,Crater_Width_Average,Crater_Width_Uncertainty)**2)\n",
        "\n",
        "ay.plot(Energy,residual(quarter_fit,quarter_power,Energy,Crater_Width_Average,Crater_Width_Uncertainty),'r.',label='quarter power')\n",
        "ay.vlines(Energy,0,residual(quarter_fit,quarter_power,Energy,Crater_Width_Average,Crater_Width_Uncertainty),'r')\n",
        "ay.hlines(0,min(Energy),max(Energy),'r',alpha=0.25)\n",
        "quarter_sum_residuals = sum(residual(quarter_fit,quarter_power,Energy,Crater_Width_Average,Crater_Width_Uncertainty)**2)\n",
        "\n",
        "ax.set_ylabel(\"Residual\")\n",
        "ax.set_xlabel(\"Energy (J)\")\n",
        "ax.set_title(\"$\\chi^2$ = {:.2f}\".format(third_sum_residuals))\n",
        "ax.legend(loc=2)\n",
        "\n",
        "ay.set_ylabel(\"Residual\")\n",
        "ay.set_xlabel(\"Energy (J)\")\n",
        "ay.set_title(\"$\\chi^2$ = {:.2f}\".format(quarter_sum_residuals))\n",
        "ay.legend(loc=2)\n",
        "\n",
        "fig.tight_layout()\n",
        "plt.show()"
      ],
      "execution_count": 12,
      "outputs": [
        {
          "output_type": "display_data",
          "data": {
            "text/plain": [
              "<Figure size 960x640 with 2 Axes>"
            ],
            "image/png": "[encoded data removed]"
          },
          "metadata": {
            "needs_background": "light"
          }
        }
      ]
    },
    {
      "cell_type": "markdown",
      "metadata": {
        "id": "GzyCzd3vo9Px"
      },
      "source": [
        "Do you find better agreement with one model over the other? What criteria are you using to make that decision?\n",
        "\n",
        "Does either of your models show a trend in the residuals? (That is, do the residuals all fall too low in one part then too high in another part rather than randomly up and down all over?) What does this indicate about the quality of the fit?"
      ]
    },
    {
      "cell_type": "markdown",
      "metadata": {
        "id": "eXHyW_Tlzmkc"
      },
      "source": [
        "Does it help to fit to a more general function where the exponent is itself a fit parameter? Maybe the best fit isn't to a 1/3- or 1/4-power law, but to something else?"
      ]
    },
    {
      "cell_type": "code",
      "metadata": {
        "colab": {
          "base_uri": "https://localhost:8080/",
          "height": 835,
          "referenced_widgets": [
            "2e800d127d7d40c5b0342006f75d5227",
            "84eb576efc2048eea8e95324fdb49418",
            "7741eee6e3124cff8314a976d668d36f",
            "dda938aaf2ee43ec8c517d4d28dfbc74",
            "7cca8856373a4f5aad3baf2b0a0acd4c",
            "18307027ac5747df92b0dd15073bb642",
            "db24787e562246b2bd3c5904b15b32ab"
          ]
        },
        "id": "5uCf1tCE8UHo",
        "outputId": "0c12a968-f07d-421e-92ce-3cf2291babfd"
      },
      "source": [
        "#Fit\n",
        "print('FIT: D = C*K^x')\n",
        "print('-----')\n",
        "gen_fit, gen_err, gen_chisq, gen_dof = data_fit(['C', 'x'], [1, 0.5], gen_power,\n",
        "                        Energy, Crater_Width_Average, Crater_Width_Uncertainty)\n",
        "\n",
        "#Plots\n",
        "@widgets.interact(logplot = widgets.Checkbox(value=False,\n",
        "                                             description= 'log-log plot?'))\n",
        "\n",
        "def update(logplot):\n",
        "  fig,ax = plt.subplots()\n",
        "  ax.errorbar(Energy, Crater_Width_Average, Crater_Width_Uncertainty, fmt='k.',\n",
        "            label=\"Data\", capsize=2)\n",
        "  \n",
        "  X = np.linspace(min(Energy), max(Energy), 5000)\n",
        "  X_longer = np.linspace(0.1*min(Energy), 1.2*max(Energy), 5000)\n",
        "  \n",
        "  ax.plot(X_longer, third_power(third_fit, X_longer), 'b--')\n",
        "  ax.plot(X, third_power(third_fit, X), 'b-', label=\"$A*K^{1/3}$\")\n",
        "\n",
        "  ax.plot(X_longer, quarter_power(quarter_fit, X_longer), 'r--')\n",
        "  ax.plot(X, quarter_power(quarter_fit, X), 'r-', label=\"$B*K^{1/4}$\")\n",
        "  \n",
        "  ax.plot(X_longer, gen_power(gen_fit, X_longer), 'g--')\n",
        "  ax.plot(X, gen_power(gen_fit, X), 'g-', label=\"$C*K^x$\")\n",
        "  \n",
        "  if logplot == True:\n",
        "    ax.set_xscale('log')\n",
        "    ax.set_yscale('log')\n",
        "\n",
        "  ax.set_title(\"Power law fit Comparison\")\n",
        "  ax.set_ylabel(\"Crater Diameter (cm)\")\n",
        "  ax.set_xlabel(\"Energy (J)\")\n",
        "  \n",
        "  ax.legend()"
      ],
      "execution_count": 13,
      "outputs": [
        {
          "output_type": "stream",
          "name": "stdout",
          "text": [
            "FIT: D = C*K^x\n",
            "-----\n",
            "Converged with chi-squared: 35.39\n",
            "Number of degrees of freedom, dof: 2\n",
            "Reduced chi-squared (chi-squared/dof): 17.69\n",
            "\n",
            "Parameter   | Best fit values:         | Uncertainties in the best fit values:\n",
            "C           | 11.1355                  | 0.0894                  \n",
            "x           | 0.2536                   | 0.0032                  \n",
            "\n"
          ]
        },
        {
          "output_type": "display_data",
          "data": {
            "text/plain": [
              "interactive(children=(Checkbox(value=False, description='log-log plot?'), Output()), _dom_classes=('widget-int…"
            ],
            "application/vnd.jupyter.widget-view+json": {
              "version_major": 2,
              "version_minor": 0,
              "model_id": "2e800d127d7d40c5b0342006f75d5227"
            }
          },
          "metadata": {}
        }
      ]
    },
    {
      "cell_type": "code",
      "metadata": {
        "colab": {
          "base_uri": "https://localhost:8080/",
          "height": 641
        },
        "id": "XOFBrsFPzygB",
        "outputId": "51c47aaf-a1c5-4eb2-846e-2b89792be011"
      },
      "source": [
        "fig,ax = plt.subplots()\n",
        "\n",
        "ax.plot(Energy,residual(gen_fit,gen_power,Energy,Crater_Width_Average,Crater_Width_Uncertainty),'b.',label='general power')\n",
        "ax.vlines(Energy,0,residual(gen_fit,gen_power,Energy,Crater_Width_Average,Crater_Width_Uncertainty),'b')\n",
        "ax.hlines(0,min(Energy),max(Energy),'b',alpha=0.25)\n",
        "gen_sum_residuals = sum(residual(gen_fit,gen_power,Energy,Crater_Width_Average,Crater_Width_Uncertainty)**2)\n",
        "\n",
        "ax.set_ylabel(\"Residual\")\n",
        "ax.set_xlabel(\"Energy (J)\")\n",
        "ax.set_title(\"$\\chi^2$ = {:.2f}\".format(gen_sum_residuals))\n",
        "ax.legend(loc=2)\n",
        "\n",
        "fig.tight_layout()\n",
        "plt.show()"
      ],
      "execution_count": 14,
      "outputs": [
        {
          "output_type": "display_data",
          "data": {
            "text/plain": [
              "<Figure size 960x640 with 1 Axes>"
            ],
            "image/png": "[encoded data removed]"
          },
          "metadata": {
            "needs_background": "light"
          }
        }
      ]
    },
    {
      "cell_type": "markdown",
      "metadata": {
        "id": "CCdm4rdZ_rt4"
      },
      "source": [
        "Now, let's use our model to make predictions. Input an energy to predict a crater diameter."
      ]
    },
    {
      "cell_type": "code",
      "metadata": {
        "id": "uVdNWf7NqJTR",
        "colab": {
          "base_uri": "https://localhost:8080/"
        },
        "outputId": "83414d0c-342b-4699-b7f5-fb8944243d1f"
      },
      "source": [
        "val = input(\"Enter an energy (in J) to see what your models predict for the crater diameter: \")\n",
        "test_K = float(val)\n",
        "\n",
        "D_third = third_power(third_fit, test_K)\n",
        "dD_third = D_third*third_err[0]/third_fit[0]\n",
        "D_quarter = quarter_power(quarter_fit, test_K)\n",
        "dD_quarter = D_quarter*quarter_err[0]/quarter_fit[0]\n",
        "D_gen = gen_power(gen_fit, test_K)\n",
        "dD_gen = D_gen*np.sqrt((gen_err[0]/gen_fit[0])**2 + (gen_fit[1]*gen_err[1]/test_K)**2)\n",
        "\n",
        "print(\"1/3-power prediction: \", D_third, \" +/- \", dD_third, \"cm\")\n",
        "print(\"1/4-power prediction: \", D_quarter,\" +/- \", dD_quarter, \"cm\")\n",
        "print(\"general-power prediction: \", D_gen, \" +/- \", dD_gen, \"cm\")"
      ],
      "execution_count": 21,
      "outputs": [
        {
          "output_type": "stream",
          "name": "stdout",
          "text": [
            "Enter an energy (in J) to see what your models predict for the crater diameter: 20\n",
            "1/3-power prediction:  35.71358136745423  +/-  0.12997460594959284 cm\n",
            "1/4-power prediction:  23.358810180545756  +/-  0.08467891420072013 cm\n",
            "general-power prediction:  23.804198111185507  +/-  0.19120769144687594 cm\n"
          ]
        }
      ]
    },
    {
      "cell_type": "code",
      "metadata": {
        "id": "6CdDIwnF_zBS",
        "colab": {
          "base_uri": "https://localhost:8080/"
        },
        "outputId": "9b7c1272-022e-443f-fef5-6962c4b31755"
      },
      "source": [
        "diameter = float(input(\"Enter a diemeter (in cm) to see what your models predict for the total energy of impact: \"))\n",
        "E_third = (diameter / third_fit[0])**(3)\n",
        "dE_third = E_third * third_err[0] / third_fit[0]\n",
        "E_quarter = (diameter / quarter_fit[0])**(4)\n",
        "dE_quarter = E_quarter * quarter_err[0] / quarter_fit[0]\n",
        "E_gen = (diameter / gen_fit[0]) ** (1/gen_fit[1])\n",
        "dE_gen = E_gen*np.sqrt((gen_err[0]/gen_fit[0])**2 + (gen_fit[1]*gen_err[1]/test_K)**2)\n",
        "print(\"1/3-power prediction: \", E_third, \" +/- \", dE_third, \"J\")\n",
        "print(\"1/4-power prediction: \", E_quarter,\" +/- \", dE_quarter, \"J\")\n",
        "print(\"general-power prediction: \", E_gen, \" +/- \", dE_gen, \"J\")"
      ],
      "execution_count": 34,
      "outputs": [
        {
          "output_type": "stream",
          "name": "stdout",
          "text": [
            "Enter a diemeter (in cm) to see what your models predict for the total energy of impact: 23.8\n",
            "1/3-power prediction:  5.919167860332042  +/-  0.02154198713034286 J\n",
            "1/4-power prediction:  21.554351152989938  +/-  0.0781375009184472 J\n",
            "general-power prediction:  19.986095215796514  +/-  0.16053870453439875 J\n"
          ]
        }
      ]
    }
  ]
}